{
 "cells": [
  {
   "cell_type": "code",
   "execution_count": 2,
   "id": "be9fac4a",
   "metadata": {},
   "outputs": [
    {
     "name": "stdout",
     "output_type": "stream",
     "text": [
      "How are you "
     ]
    }
   ],
   "source": [
    "print(\"How\",end=\" \")\n",
    "print(\"are\",end=\" \")    ##this will print in  a single line\n",
    "print(\"you\",end=\" \")"
   ]
  },
  {
   "cell_type": "code",
   "execution_count": 9,
   "id": "432162d4",
   "metadata": {},
   "outputs": [
    {
     "name": "stdout",
     "output_type": "stream",
     "text": [
      "farhinite temp is: 32.0\n"
     ]
    }
   ],
   "source": [
    "def farh(cel):\n",
    "    return (cel*(9/5)+32)\n",
    "\n",
    "c=0\n",
    "f=farh(c)\n",
    "print(\"farhinite temp is:\",f )"
   ]
  },
  {
   "cell_type": "code",
   "execution_count": 23,
   "id": "32975f91",
   "metadata": {},
   "outputs": [
    {
     "name": "stdout",
     "output_type": "stream",
     "text": [
      "riya\n",
      "riya is good, aur tu chutiya hai\n"
     ]
    }
   ],
   "source": [
    "def red(out):\n",
    "    return(out+\"aur tu chutiya hai\")\n",
    "a=input()\n",
    "c=red(\"{} is good, \".format(a))\n",
    "\n",
    "print(c)"
   ]
  },
  {
   "cell_type": "markdown",
   "id": "cdfcf7c0",
   "metadata": {},
   "source": [
    "# factorial"
   ]
  },
  {
   "cell_type": "code",
   "execution_count": 20,
   "id": "43615624",
   "metadata": {},
   "outputs": [
    {
     "name": "stdout",
     "output_type": "stream",
     "text": [
      "Enter a num: 5\n",
      "120\n"
     ]
    }
   ],
   "source": [
    "def factoria(a):\n",
    "    if a<0:\n",
    "        return (\"Enter a possitive  no.\")\n",
    "    elif a==1:\n",
    "        return 1\n",
    "    else:\n",
    "        return (a*factoria(a-1))\n",
    "a=int(input(\"Enter a num: \"))\n",
    "\n",
    "print(factoria(a))"
   ]
  },
  {
   "cell_type": "code",
   "execution_count": null,
   "id": "d0cc230b",
   "metadata": {},
   "outputs": [],
   "source": [
    "\n",
    "    "
   ]
  },
  {
   "cell_type": "markdown",
   "id": "b4910aad",
   "metadata": {},
   "source": [
    "# fiabonacci series"
   ]
  },
  {
   "cell_type": "code",
   "execution_count": null,
   "id": "dfac3433",
   "metadata": {},
   "outputs": [],
   "source": [
    "def fibo(a):\n",
    "    if (a<1):\n",
    "        print(\"Enter again\")\n",
    "    elif (a==1):\n",
    "        return 0\n",
    "    elif (a==2):\n",
    "        return 1\n",
    "    else:\n",
    "        return (fibo(a)+fibo(a-2))\n",
    "a=int(input(\"Enter a term: \"))\n",
    "print(fibo(a))"
   ]
  },
  {
   "cell_type": "code",
   "execution_count": null,
   "id": "58f654ca",
   "metadata": {},
   "outputs": [],
   "source": []
  },
  {
   "cell_type": "code",
   "execution_count": null,
   "id": "2b1bdd9b",
   "metadata": {},
   "outputs": [],
   "source": []
  }
 ],
 "metadata": {
  "kernelspec": {
   "display_name": "Python 3 (ipykernel)",
   "language": "python",
   "name": "python3"
  },
  "language_info": {
   "codemirror_mode": {
    "name": "ipython",
    "version": 3
   },
   "file_extension": ".py",
   "mimetype": "text/x-python",
   "name": "python",
   "nbconvert_exporter": "python",
   "pygments_lexer": "ipython3",
   "version": "3.9.12"
  }
 },
 "nbformat": 4,
 "nbformat_minor": 5
}
