{
 "cells": [
  {
   "cell_type": "code",
   "execution_count": 3,
   "id": "ba15ce28",
   "metadata": {},
   "outputs": [
    {
     "name": "stdout",
     "output_type": "stream",
     "text": [
      "kya time hai: 60\n",
      "kitne que hai: 5\n",
      "mara li bsdk\n"
     ]
    }
   ],
   "source": [
    "a=int(input(\"kya time hai: \"))\n",
    "b=int(input(\"kitne que hai: \"))\n",
    "if  a>=30 and b<=4:\n",
    "    print(\"hojaiga\")\n",
    "else:\n",
    "    print(\"mara li bsdk\")"
   ]
  },
  {
   "cell_type": "code",
   "execution_count": null,
   "id": "6be5fd2d",
   "metadata": {},
   "outputs": [],
   "source": []
  },
  {
   "cell_type": "markdown",
   "id": "4e5173ef",
   "metadata": {},
   "source": [
    "# and , or ,not ,is, in"
   ]
  },
  {
   "cell_type": "code",
   "execution_count": 11,
   "id": "214d5aaf",
   "metadata": {},
   "outputs": [
    {
     "name": "stdout",
     "output_type": "stream",
     "text": [
      "True\n",
      "False\n",
      "enter a value to check if it is in the statement:= is\n",
      "True\n"
     ]
    }
   ],
   "source": [
    "a=\"aadarsh is a good boy and he loves to fuck\"\n",
    "print(\"aadarsh\" in a)\n",
    "print(\"sahil\" in a)\n",
    " \n",
    "b= (input(\"enter a value to check if it is in the statement:= \"))\n",
    "print(b in a)\n",
    "\n"
   ]
  },
  {
   "cell_type": "code",
   "execution_count": 16,
   "id": "0131150c",
   "metadata": {},
   "outputs": [
    {
     "name": "stdout",
     "output_type": "stream",
     "text": [
      "True\n"
     ]
    }
   ],
   "source": [
    "a=[213,45,354,24]\n",
    "b=a[1]\n",
    "print(b in a)\n"
   ]
  },
  {
   "cell_type": "code",
   "execution_count": null,
   "id": "abdc3d5e",
   "metadata": {},
   "outputs": [],
   "source": [
    "a=int(input())\n",
    "b=int(input())\n",
    "c=int(input())\n",
    "d=int(input())\n",
    "if a>b and a>c and a>d:\n",
    "    print(a)\n",
    "elif b>a and b>c and b>d:\n",
    "    print(b)\n",
    "elif c>a and c>b and c>d:\n",
    "    print(c)\n",
    "else:\n",
    "    print(d)\n",
    "\n",
    "\n",
    "\n",
    "\n",
    "\n"
   ]
  },
  {
   "cell_type": "code",
   "execution_count": null,
   "id": "d0a01b6d",
   "metadata": {},
   "outputs": [],
   "source": [
    "a=int(input())\n",
    "b=int(input())\n",
    "c=int(input())\n",
    "d=int(input())\n",
    "if a>b and a>c and a>d:\n",
    "    print(a)\n",
    "elif b>a and b>c and b>d:\n",
    "    print(b)\n",
    "elif c>a and c>b and c>d:\n",
    "    print(c)\n",
    "else:\n",
    "    print(d)\n"
   ]
  },
  {
   "cell_type": "code",
   "execution_count": null,
   "id": "8b57781b",
   "metadata": {},
   "outputs": [],
   "source": []
  }
 ],
 "metadata": {
  "kernelspec": {
   "display_name": "Python 3 (ipykernel)",
   "language": "python",
   "name": "python3"
  },
  "language_info": {
   "codemirror_mode": {
    "name": "ipython",
    "version": 3
   },
   "file_extension": ".py",
   "mimetype": "text/x-python",
   "name": "python",
   "nbconvert_exporter": "python",
   "pygments_lexer": "ipython3",
   "version": "3.9.12"
  }
 },
 "nbformat": 4,
 "nbformat_minor": 5
}
