{
 "cells": [
  {
   "cell_type": "code",
   "execution_count": 3,
   "id": "94a07b7e",
   "metadata": {},
   "outputs": [
    {
     "name": "stdout",
     "output_type": "stream",
     "text": [
      "12 10\n",
      "30 45\n"
     ]
    }
   ],
   "source": [
    "def test1():\n",
    "    a=12\n",
    "    b=10\n",
    "    print(a,b)\n",
    "\n",
    "def test2():\n",
    "    a=30\n",
    "    b=45\n",
    "    print(a,b)\n",
    "\n",
    "test1()\n",
    "test2()"
   ]
  },
  {
   "cell_type": "code",
   "execution_count": null,
   "id": "1e2739a4",
   "metadata": {},
   "outputs": [],
   "source": []
  },
  {
   "cell_type": "markdown",
   "id": "ada3886c",
   "metadata": {},
   "source": [
    "# global variable"
   ]
  },
  {
   "cell_type": "code",
   "execution_count": 15,
   "id": "a366b660",
   "metadata": {},
   "outputs": [
    {
     "name": "stdout",
     "output_type": "stream",
     "text": [
      "Hello\n",
      "Good Morning\n"
     ]
    }
   ],
   "source": [
    "globvar=\"Hello\"\n",
    "def test1():\n",
    "    global globvar\n",
    "    globvar=\"Good Morning\"\n",
    "\n",
    "def test2():\n",
    "#     global globvar\n",
    "    globvar=\"Night hai re\"\n",
    "    \n",
    "print(globvar)\n",
    "\n",
    "(test1())\n",
    "(test2())\n",
    "print(globvar)"
   ]
  },
  {
   "cell_type": "code",
   "execution_count": null,
   "id": "1faa9efd",
   "metadata": {},
   "outputs": [],
   "source": []
  },
  {
   "cell_type": "code",
   "execution_count": 17,
   "id": "3e5c5d19",
   "metadata": {},
   "outputs": [
    {
     "name": "stdout",
     "output_type": "stream",
     "text": [
      "34\n",
      "global a fnc before call: 34\n",
      "local val is:  100\n",
      "global fnc after call 200\n"
     ]
    }
   ],
   "source": [
    "a=int(input(\"\"))\n",
    "def changeglobal():\n",
    "    global a\n",
    "    a=200\n",
    "    \n",
    "def changelocal():\n",
    "    a=100\n",
    "    print(\"local val is: \",a)\n",
    "\n",
    "print(\"global a fnc before call:\",a)\n",
    "changeglobal()\n",
    "changelocal()\n",
    "print(\"global fnc after call\",a)"
   ]
  },
  {
   "cell_type": "markdown",
   "id": "44f573ea",
   "metadata": {},
   "source": [
    "# fnc composition"
   ]
  },
  {
   "cell_type": "code",
   "execution_count": 29,
   "id": "a58162e7",
   "metadata": {},
   "outputs": [
    {
     "name": "stdout",
     "output_type": "stream",
     "text": [
      "Enter a no: 4\n",
      "16\n",
      "8\n",
      "32\n",
      "4.0\n"
     ]
    }
   ],
   "source": [
    "import math\n",
    "def square(num):\n",
    "    return num**2\n",
    "def doublenum(num):\n",
    "    return num*2\n",
    "num=int(input(\"Enter a no: \"))\n",
    "print(square(num))\n",
    "print(doublenum(num))\n",
    "print(doublenum(square(num)))\n",
    "print(math.sqrt(square(num)))\n"
   ]
  },
  {
   "cell_type": "code",
   "execution_count": null,
   "id": "600a4eb8",
   "metadata": {},
   "outputs": [],
   "source": []
  },
  {
   "cell_type": "code",
   "execution_count": null,
   "id": "602422c5",
   "metadata": {},
   "outputs": [],
   "source": []
  }
 ],
 "metadata": {
  "kernelspec": {
   "display_name": "Python 3 (ipykernel)",
   "language": "python",
   "name": "python3"
  },
  "language_info": {
   "codemirror_mode": {
    "name": "ipython",
    "version": 3
   },
   "file_extension": ".py",
   "mimetype": "text/x-python",
   "name": "python",
   "nbconvert_exporter": "python",
   "pygments_lexer": "ipython3",
   "version": "3.9.12"
  }
 },
 "nbformat": 4,
 "nbformat_minor": 5
}
