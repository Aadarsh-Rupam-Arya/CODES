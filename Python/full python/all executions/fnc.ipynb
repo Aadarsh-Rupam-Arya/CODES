{
 "cells": [
  {
   "cell_type": "code",
   "execution_count": 1,
   "id": "4a7070ca",
   "metadata": {},
   "outputs": [
    {
     "name": "stdout",
     "output_type": "stream",
     "text": [
      "YOUR NAME: Aadarsh Arya\n",
      "hello, Aadarsh Arya\n"
     ]
    }
   ],
   "source": [
    "def greet(name):\n",
    "    print(\"hello, \"+name)\n",
    "    \n",
    "    \n",
    "a=input(\"YOUR NAME: \")\n",
    "greet(a)"
   ]
  },
  {
   "cell_type": "code",
   "execution_count": null,
   "id": "b76ae65c",
   "metadata": {},
   "outputs": [],
   "source": [
    "\n",
    "    \n",
    "a=int(input(\"marks in eng: \"))\n",
    "b=int(input(\"marks in sci: \"))\n",
    "c=int(input(\"marks in sst: \"))\n",
    "d=int(input(\"marks in mat: \"))\n",
    "\n",
    "list1=[]\n",
    "\n",
    "list1.append(a)\n",
    "list1.append(b)\n",
    "list1.append(c)\n",
    "list1.append(d)\n",
    "print(list1)\n",
    "\n",
    "a1=(sum(list1)/400)*100\n",
    "print(a1)\n",
    "\n",
    "def perc(a1):\n",
    "    print(\"your percentage is : \",a1)\n",
    "\n",
    "perc(a1)\n",
    "\n"
   ]
  },
  {
   "cell_type": "code",
   "execution_count": null,
   "id": "849059d5",
   "metadata": {},
   "outputs": [],
   "source": []
  },
  {
   "cell_type": "code",
   "execution_count": null,
   "id": "dc3aaaa9",
   "metadata": {},
   "outputs": [],
   "source": [
    "a=int(input(\"marks in eng: \"))\n",
    "b=int(input(\"marks in sci: \"))\n",
    "c=int(input(\"marks in sst: \"))\n",
    "d=int(input(\"marks in mat: \"))\n",
    "\n",
    "list1=[]\n",
    "\n",
    "list1.append(a)\n",
    "list1.append(b)\n",
    "list1.append(c)\n",
    "list1.append(d)\n",
    "print(list1)\n",
    "\n",
    "\n",
    "def perc():\n",
    "    return (sum(list1)/400)*100 \n",
    "\n",
    "perc(a1)"
   ]
  },
  {
   "cell_type": "code",
   "execution_count": null,
   "id": "6dc8e071",
   "metadata": {},
   "outputs": [],
   "source": []
  }
 ],
 "metadata": {
  "kernelspec": {
   "display_name": "Python 3 (ipykernel)",
   "language": "python",
   "name": "python3"
  },
  "language_info": {
   "codemirror_mode": {
    "name": "ipython",
    "version": 3
   },
   "file_extension": ".py",
   "mimetype": "text/x-python",
   "name": "python",
   "nbconvert_exporter": "python",
   "pygments_lexer": "ipython3",
   "version": "3.9.12"
  }
 },
 "nbformat": 4,
 "nbformat_minor": 5
}
