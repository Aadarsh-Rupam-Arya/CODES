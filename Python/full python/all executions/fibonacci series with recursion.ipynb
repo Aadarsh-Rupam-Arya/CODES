{
 "cells": [
  {
   "cell_type": "code",
   "execution_count": null,
   "id": "dc9508e4",
   "metadata": {},
   "outputs": [
    {
     "name": "stdout",
     "output_type": "stream",
     "text": [
      "Enter a term: 5\n"
     ]
    }
   ],
   "source": [
    "def fibo(a):\n",
    "    if (a<1):\n",
    "        print(\"Enter again\")\n",
    "    elif (a==1):\n",
    "        return 0\n",
    "    elif (a==2):\n",
    "        return 1\n",
    "    else:\n",
    "        return (fibo(a)+fibo(a-2))\n",
    "a=int(input(\"Enter a term: \"))\n",
    "for i in range (1,a):\n",
    "    print(fibo(a))"
   ]
  },
  {
   "cell_type": "code",
   "execution_count": null,
   "id": "5cd2fbf3",
   "metadata": {},
   "outputs": [],
   "source": []
  }
 ],
 "metadata": {
  "kernelspec": {
   "display_name": "Python 3 (ipykernel)",
   "language": "python",
   "name": "python3"
  },
  "language_info": {
   "codemirror_mode": {
    "name": "ipython",
    "version": 3
   },
   "file_extension": ".py",
   "mimetype": "text/x-python",
   "name": "python",
   "nbconvert_exporter": "python",
   "pygments_lexer": "ipython3",
   "version": "3.9.12"
  }
 },
 "nbformat": 4,
 "nbformat_minor": 5
}
