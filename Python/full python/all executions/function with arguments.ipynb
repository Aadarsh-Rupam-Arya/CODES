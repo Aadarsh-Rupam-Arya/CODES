{
 "cells": [
  {
   "cell_type": "code",
   "execution_count": 5,
   "id": "8bc29020",
   "metadata": {},
   "outputs": [
    {
     "name": "stdout",
     "output_type": "stream",
     "text": [
      "your name: Aadarsh Arya\n",
      "good day, Aadarsh Arya\n"
     ]
    }
   ],
   "source": [
    "def greet(a):\n",
    "    print(\"good day, \"+a)\n",
    "a=input(\"your name: \")\n",
    "greet(a)\n"
   ]
  },
  {
   "cell_type": "code",
   "execution_count": 12,
   "id": "3e4d1952",
   "metadata": {},
   "outputs": [
    {
     "name": "stdout",
     "output_type": "stream",
     "text": [
      "23\n",
      "12\n",
      "35\n"
     ]
    }
   ],
   "source": [
    "def red(a,b):\n",
    "    return(a+b)\n",
    "d=int(input())\n",
    "g=int(input())\n",
    "\n",
    "j= red(d,g)\n",
    "print(j)"
   ]
  },
  {
   "cell_type": "code",
   "execution_count": null,
   "id": "5c9c15dd",
   "metadata": {},
   "outputs": [],
   "source": []
  },
  {
   "cell_type": "code",
   "execution_count": 17,
   "id": "83311efb",
   "metadata": {},
   "outputs": [
    {
     "name": "stdout",
     "output_type": "stream",
     "text": [
      "hello harry\n"
     ]
    }
   ],
   "source": [
    "def greet(name):\n",
    "    gr=\"hello \"+name\n",
    "    return gr\n",
    "a=greet(\"harry\")\n",
    "print(a)"
   ]
  },
  {
   "cell_type": "code",
   "execution_count": null,
   "id": "9d20a37b",
   "metadata": {},
   "outputs": [],
   "source": []
  },
  {
   "cell_type": "code",
   "execution_count": 18,
   "id": "d5d0818a",
   "metadata": {},
   "outputs": [
    {
     "ename": "TypeError",
     "evalue": "greet() missing 1 required positional argument: 'name'",
     "output_type": "error",
     "traceback": [
      "\u001b[1;31m---------------------------------------------------------------------------\u001b[0m",
      "\u001b[1;31mTypeError\u001b[0m                                 Traceback (most recent call last)",
      "Input \u001b[1;32mIn [18]\u001b[0m, in \u001b[0;36m<cell line: 3>\u001b[1;34m()\u001b[0m\n\u001b[0;32m      1\u001b[0m \u001b[38;5;28;01mdef\u001b[39;00m \u001b[38;5;21mgreet\u001b[39m(name):\n\u001b[0;32m      2\u001b[0m     \u001b[38;5;28mprint\u001b[39m(\u001b[38;5;124m\"\u001b[39m\u001b[38;5;124mgood \u001b[39m\u001b[38;5;124m\"\u001b[39m\u001b[38;5;241m+\u001b[39mname)\n\u001b[1;32m----> 3\u001b[0m \u001b[43mgreet\u001b[49m\u001b[43m(\u001b[49m\u001b[43m)\u001b[49m\n",
      "\u001b[1;31mTypeError\u001b[0m: greet() missing 1 required positional argument: 'name'"
     ]
    }
   ],
   "source": [
    "def greet(name):\n",
    "    print(\"good \"+name)\n",
    "greet()                        ## this will show error"
   ]
  },
  {
   "cell_type": "code",
   "execution_count": 19,
   "id": "cfa5ac9f",
   "metadata": {},
   "outputs": [],
   "source": [
    "###  but\n",
    "         #  through default paramater value it wont"
   ]
  },
  {
   "cell_type": "code",
   "execution_count": 23,
   "id": "a429e0d0",
   "metadata": {},
   "outputs": [
    {
     "name": "stdout",
     "output_type": "stream",
     "text": [
      "good stranger\n",
      "good harry\n"
     ]
    }
   ],
   "source": [
    "def greet(name=\"stranger\"):\n",
    "    print(\"good \"+name)\n",
    "greet()\n",
    "greet(\"harry\")"
   ]
  },
  {
   "cell_type": "code",
   "execution_count": null,
   "id": "99f0bc4d",
   "metadata": {},
   "outputs": [],
   "source": []
  },
  {
   "cell_type": "code",
   "execution_count": null,
   "id": "0d40ad6c",
   "metadata": {},
   "outputs": [],
   "source": []
  }
 ],
 "metadata": {
  "kernelspec": {
   "display_name": "Python 3 (ipykernel)",
   "language": "python",
   "name": "python3"
  },
  "language_info": {
   "codemirror_mode": {
    "name": "ipython",
    "version": 3
   },
   "file_extension": ".py",
   "mimetype": "text/x-python",
   "name": "python",
   "nbconvert_exporter": "python",
   "pygments_lexer": "ipython3",
   "version": "3.9.12"
  }
 },
 "nbformat": 4,
 "nbformat_minor": 5
}
