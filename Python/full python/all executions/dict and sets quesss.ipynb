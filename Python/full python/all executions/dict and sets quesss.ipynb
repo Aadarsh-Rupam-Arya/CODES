{
 "cells": [
  {
   "cell_type": "code",
   "execution_count": 15,
   "id": "a5afea10",
   "metadata": {},
   "outputs": [
    {
     "ename": "SyntaxError",
     "evalue": "invalid syntax (3016094364.py, line 6)",
     "output_type": "error",
     "traceback": [
      "\u001b[1;36m  Input \u001b[1;32mIn [15]\u001b[1;36m\u001b[0m\n\u001b[1;33m    a=input(\"enter your name: \"):\u001b[0m\n\u001b[1;37m     ^\u001b[0m\n\u001b[1;31mSyntaxError\u001b[0m\u001b[1;31m:\u001b[0m invalid syntax\n"
     ]
    }
   ],
   "source": [
    "mydict={}\n",
    "print(type(a))\n",
    "print(mydict.keys())\n",
    "print(mydict.values())\n",
    "update={\n",
    "    a=input(\"enter your name: \"):\n",
    "    b=input(\"enter your name: \"),\n",
    "    c=input(\"enter your name: \"):\n",
    "    d=input(\"enter your name: \"),\n",
    "    a1=input(\"enter your fav lang: \"):\n",
    "    b1=input(\"enter your fav lang: \"),\n",
    "    c1=input(\"enter your fav lang: \"):\n",
    "    d1=input(\"enter your fav lang: \"),\n",
    "\n",
    "\n",
    "    \n",
    "}\n",
    "\n",
    "print(mydict.update(update))\n",
    "\n",
    "\n"
   ]
  },
  {
   "cell_type": "code",
   "execution_count": null,
   "id": "88602800",
   "metadata": {},
   "outputs": [],
   "source": []
  }
 ],
 "metadata": {
  "kernelspec": {
   "display_name": "Python 3 (ipykernel)",
   "language": "python",
   "name": "python3"
  },
  "language_info": {
   "codemirror_mode": {
    "name": "ipython",
    "version": 3
   },
   "file_extension": ".py",
   "mimetype": "text/x-python",
   "name": "python",
   "nbconvert_exporter": "python",
   "pygments_lexer": "ipython3",
   "version": "3.9.12"
  }
 },
 "nbformat": 4,
 "nbformat_minor": 5
}
