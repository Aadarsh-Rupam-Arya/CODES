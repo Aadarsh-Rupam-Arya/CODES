{
 "cells": [
  {
   "cell_type": "markdown",
   "id": "4dfee08e",
   "metadata": {},
   "source": [
    "# break"
   ]
  },
  {
   "cell_type": "code",
   "execution_count": 1,
   "id": "fca5b9c4",
   "metadata": {},
   "outputs": [
    {
     "name": "stdout",
     "output_type": "stream",
     "text": [
      "0\n",
      "1\n",
      "2\n",
      "3\n",
      "4\n",
      "5\n"
     ]
    }
   ],
   "source": [
    "for i in range (10):\n",
    "    print(i)\n",
    "    if i==5:\n",
    "        break"
   ]
  },
  {
   "cell_type": "code",
   "execution_count": 2,
   "id": "0e64330a",
   "metadata": {},
   "outputs": [],
   "source": [
    "## this will break the for loop and now execution wont take place"
   ]
  },
  {
   "cell_type": "code",
   "execution_count": null,
   "id": "61791662",
   "metadata": {},
   "outputs": [],
   "source": []
  },
  {
   "cell_type": "markdown",
   "id": "f72bb910",
   "metadata": {},
   "source": [
    "\n",
    "# continue"
   ]
  },
  {
   "cell_type": "code",
   "execution_count": 3,
   "id": "655667bf",
   "metadata": {},
   "outputs": [
    {
     "name": "stdout",
     "output_type": "stream",
     "text": [
      "0\n",
      "1\n",
      "2\n",
      "3\n",
      "4\n",
      "6\n",
      "7\n",
      "8\n",
      "9\n"
     ]
    }
   ],
   "source": [
    "for i in range (10):\n",
    "    if i ==5:\n",
    "        continue\n",
    "    print(i)"
   ]
  },
  {
   "cell_type": "code",
   "execution_count": 4,
   "id": "455758a7",
   "metadata": {},
   "outputs": [],
   "source": [
    "##  this will skip the value"
   ]
  },
  {
   "cell_type": "code",
   "execution_count": 5,
   "id": "a0a3c82d",
   "metadata": {},
   "outputs": [],
   "source": [
    "##example"
   ]
  },
  {
   "cell_type": "code",
   "execution_count": 6,
   "id": "2e9f24b2",
   "metadata": {},
   "outputs": [
    {
     "name": "stdout",
     "output_type": "stream",
     "text": [
      "1\n",
      "3\n",
      "5\n",
      "7\n",
      "9\n",
      "11\n",
      "13\n",
      "15\n",
      "17\n",
      "19\n"
     ]
    }
   ],
   "source": [
    "for i in range (20):\n",
    "    if i % 2 ==0:          ### this will print only the even value\n",
    "        continue\n",
    "    print(i)"
   ]
  },
  {
   "cell_type": "code",
   "execution_count": 14,
   "id": "1745f8f1",
   "metadata": {},
   "outputs": [
    {
     "name": "stdout",
     "output_type": "stream",
     "text": [
      "53\n",
      "59\n",
      "65\n",
      "71\n",
      "77\n",
      "83\n",
      "89\n",
      "95\n"
     ]
    }
   ],
   "source": [
    "for i in range (50,100,3):\n",
    "    if i%2==0:\n",
    "        continue\n",
    "    print(i)\n"
   ]
  },
  {
   "cell_type": "code",
   "execution_count": null,
   "id": "6c38c964",
   "metadata": {},
   "outputs": [],
   "source": []
  }
 ],
 "metadata": {
  "kernelspec": {
   "display_name": "Python 3 (ipykernel)",
   "language": "python",
   "name": "python3"
  },
  "language_info": {
   "codemirror_mode": {
    "name": "ipython",
    "version": 3
   },
   "file_extension": ".py",
   "mimetype": "text/x-python",
   "name": "python",
   "nbconvert_exporter": "python",
   "pygments_lexer": "ipython3",
   "version": "3.9.12"
  }
 },
 "nbformat": 4,
 "nbformat_minor": 5
}
