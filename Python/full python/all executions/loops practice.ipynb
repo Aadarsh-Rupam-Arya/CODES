{
 "cells": [
  {
   "cell_type": "markdown",
   "id": "de0c135f",
   "metadata": {},
   "source": [
    "# Q. create a table of a input no."
   ]
  },
  {
   "cell_type": "code",
   "execution_count": 6,
   "id": "fbf917a2",
   "metadata": {},
   "outputs": [
    {
     "name": "stdout",
     "output_type": "stream",
     "text": [
      "enter a num of which table you want: 4\n",
      "4X1=4\n",
      "4X2=8\n",
      "4X3=12\n",
      "4X4=16\n",
      "4X5=20\n",
      "4X6=24\n",
      "4X7=28\n",
      "4X8=32\n",
      "4X9=36\n",
      "4X10=40\n"
     ]
    }
   ],
   "source": [
    "a=int(input(\"enter a num of which table you want: \"))\n",
    "\n",
    "\n",
    "for i in range(1,11):\n",
    "#     print(str(a)+\"X\"+str(i)+\"=\"+ str(i*a))\n",
    "      print(f\"{a}X{i}={a*i}\")   \n",
    "           \n",
    "        \n",
    "        ## As simple A FUCK!!!        "
   ]
  },
  {
   "cell_type": "code",
   "execution_count": 5,
   "id": "9eac4fab",
   "metadata": {},
   "outputs": [
    {
     "name": "stdout",
     "output_type": "stream",
     "text": [
      "Enter a no a: 2\n",
      "Enter a no b: 3\n",
      "2X3=6\n"
     ]
    }
   ],
   "source": [
    "a=int(input(\"Enter a no a: \"))\n",
    "b=int(input(\"Enter a no b: \"))\n",
    "\n",
    "print(f\"{a}X{b}={a*b}\")"
   ]
  },
  {
   "cell_type": "markdown",
   "id": "4e64f608",
   "metadata": {},
   "source": [
    "# Q. great to the name with start with \"s\""
   ]
  },
  {
   "cell_type": "code",
   "execution_count": null,
   "id": "1e8bb5bb",
   "metadata": {},
   "outputs": [],
   "source": [
    "l1=[\"Harry\",\"aadarsh\",\"ram\",\"ravi\",\"shyam\",\"sahil\"]\n",
    "\n",
    "for i in l1:\n",
    "    if  i.startswith(\"s\"):\n",
    "        print(\"hello\",i)"
   ]
  },
  {
   "cell_type": "markdown",
   "id": "c6ed707e",
   "metadata": {},
   "source": [
    "# check the no is prime or not"
   ]
  },
  {
   "cell_type": "code",
   "execution_count": 24,
   "id": "7fa8cfa9",
   "metadata": {},
   "outputs": [
    {
     "name": "stdout",
     "output_type": "stream",
     "text": [
      "Enter a num9\n",
      "It is not prime\n"
     ]
    }
   ],
   "source": [
    "a=int(input(\"Enter a num\"))\n",
    "\n",
    "prime=True\n",
    "for i in range (2,a):\n",
    "    if (a%i==0):\n",
    "        prime=False\n",
    "        break\n",
    "if prime:\n",
    "    print(\"It is prime\")\n",
    "else:\n",
    "    print(\"It is not prime\")"
   ]
  },
  {
   "cell_type": "code",
   "execution_count": null,
   "id": "71c0c4bf",
   "metadata": {},
   "outputs": [],
   "source": []
  },
  {
   "cell_type": "code",
   "execution_count": null,
   "id": "9d1e9e5c",
   "metadata": {},
   "outputs": [],
   "source": []
  }
 ],
 "metadata": {
  "kernelspec": {
   "display_name": "Python 3 (ipykernel)",
   "language": "python",
   "name": "python3"
  },
  "language_info": {
   "codemirror_mode": {
    "name": "ipython",
    "version": 3
   },
   "file_extension": ".py",
   "mimetype": "text/x-python",
   "name": "python",
   "nbconvert_exporter": "python",
   "pygments_lexer": "ipython3",
   "version": "3.9.12"
  }
 },
 "nbformat": 4,
 "nbformat_minor": 5
}
