{
 "cells": [
  {
   "cell_type": "code",
   "execution_count": 3,
   "id": "1976df08",
   "metadata": {},
   "outputs": [
    {
     "name": "stdout",
     "output_type": "stream",
     "text": [
      "Enter a text: please subscribe this\n",
      "this i a spam \n"
     ]
    }
   ],
   "source": [
    "a= input(\"Enter a text: \")\n",
    "\n",
    "if (\"subscribe this\" in a):\n",
    "    spam=True\n",
    "elif (\"click this\" in a):\n",
    "    spam=True\n",
    "elif (\"give money\" in a):\n",
    "    spam=True\n",
    "elif (\"love\" in a):\n",
    "    spam=True\n",
    "else:\n",
    "    spam=False\n",
    "\n",
    "if(spam):\n",
    "    print(\"this i a spam \")\n",
    "else:\n",
    "    print(\"this i genuine\")\n",
    "    "
   ]
  },
  {
   "cell_type": "code",
   "execution_count": null,
   "id": "00f0aee6",
   "metadata": {},
   "outputs": [],
   "source": [
    "\n"
   ]
  },
  {
   "cell_type": "code",
   "execution_count": 7,
   "id": "84046a1b",
   "metadata": {},
   "outputs": [
    {
     "name": "stdout",
     "output_type": "stream",
     "text": [
      "Enter: 123456789\n",
      "valid\n"
     ]
    }
   ],
   "source": [
    "a=(input(\"Enter: \"))\n",
    "b=len(a)\n",
    "if b<=10:\n",
    "    print(\"valid\")\n",
    "else:\n",
    "    print(\"invalid\")"
   ]
  },
  {
   "cell_type": "code",
   "execution_count": 15,
   "id": "4a556718",
   "metadata": {},
   "outputs": [
    {
     "name": "stdout",
     "output_type": "stream",
     "text": [
      "Enter you marks: 100\n",
      "MAADARCHOOD!\n"
     ]
    }
   ],
   "source": [
    "a=int(input(\"Enter you marks: \"))\n",
    "\n",
    "if a==100:\n",
    "    print(\"MAADARCHOOD!\")\n",
    "elif a<100 and a>90:\n",
    "    print(\"BHENCHOOD\")\n",
    "elif a<=90 and a>80:\n",
    "    print(\"Bsdk\")\n",
    "elif a<=80 and a>70:\n",
    "    print(\"Badiya\")\n",
    "elif a<=70 and a>60:\n",
    "    print(\"sudhar kar\")\n",
    "elif a<60 and a>40:\n",
    "    print(\"padh le fail ho jaiga\")\n",
    "elif a<=40 and a>0:\n",
    "    print(\"mara li gaand\")\n",
    "else:\n",
    "    print(\"Bhaag papa aare hai belt leke\")"
   ]
  },
  {
   "cell_type": "code",
   "execution_count": null,
   "id": "ac038fc1",
   "metadata": {},
   "outputs": [],
   "source": []
  },
  {
   "cell_type": "code",
   "execution_count": null,
   "id": "4fcc027a",
   "metadata": {},
   "outputs": [],
   "source": []
  }
 ],
 "metadata": {
  "kernelspec": {
   "display_name": "Python 3 (ipykernel)",
   "language": "python",
   "name": "python3"
  },
  "language_info": {
   "codemirror_mode": {
    "name": "ipython",
    "version": 3
   },
   "file_extension": ".py",
   "mimetype": "text/x-python",
   "name": "python",
   "nbconvert_exporter": "python",
   "pygments_lexer": "ipython3",
   "version": "3.9.12"
  }
 },
 "nbformat": 4,
 "nbformat_minor": 5
}
