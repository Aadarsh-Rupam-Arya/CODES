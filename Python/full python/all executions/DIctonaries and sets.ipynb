{
 "cells": [
  {
   "cell_type": "code",
   "execution_count": 11,
   "id": "225b81b4",
   "metadata": {},
   "outputs": [
    {
     "name": "stdout",
     "output_type": "stream",
     "text": [
      "{'red': 'red is a colour', 'key': 'used in lock', 'card': 'entry in'}\n",
      "dict_keys(['red', 'key', 'card'])\n",
      "dict_values(['red is a colour', 'used in lock', 'entry in'])\n",
      "dict_items([('red', 'red is a colour'), ('key', 'used in lock'), ('card', 'entry in')])\n",
      "None\n",
      "{'red': 'red is a colour', 'key': 'used in lock', 'card': 'entry in', 'mobile': 'used everywhere', 'bin': 'throw thw thongs'}\n"
     ]
    }
   ],
   "source": [
    "mydict={\n",
    "    \"red\":\"red is a colour\",\n",
    "    \"key\":\"used in lock\",\n",
    "    \"card\":\"entry in\"\n",
    "}\n",
    "\n",
    "print(mydict)\n",
    "print(mydict.keys())\n",
    "print(mydict.values())\n",
    "print(mydict.items())\n",
    "  \n",
    "    #for update\n",
    "update={\n",
    "    \"mobile\":\"used everywhere\",\n",
    "    \"bin\":\"throw thw thongs\"\n",
    "}\n",
    "print(mydict.update(update))\n",
    "print(mydict)"
   ]
  },
  {
   "cell_type": "code",
   "execution_count": 18,
   "id": "ff30da6a",
   "metadata": {},
   "outputs": [
    {
     "name": "stdout",
     "output_type": "stream",
     "text": [
      "red is a colour\n",
      "red is a colour\n",
      "None\n"
     ]
    }
   ],
   "source": [
    "mydict={\n",
    "    \"red\":\"red is a colour\",\n",
    "    \"key\":\"used in lock\",\n",
    "    \"card\":\"entry in\"\n",
    "}\n",
    "\n",
    "##get something in the dict\n",
    "\n",
    "print(mydict.get(\"red\"))\n",
    "\n",
    "#NOTE- we can get same in this type too->\n",
    "\n",
    "print(mydict[\"red\"])\n",
    "\n",
    "#but\n",
    "#when we write an key which is not present in the dict it will show the error in that \n",
    "\n",
    "#print(mydict[\"red2\"])\n",
    "\n",
    "#but\n",
    "#with the mydict.get(\" \") we get none like in this below\n",
    "print(mydict.get(\"red2\"))\n",
    "\n"
   ]
  },
  {
   "cell_type": "code",
   "execution_count": 48,
   "id": "6d79e97f",
   "metadata": {},
   "outputs": [
    {
     "name": "stdout",
     "output_type": "stream",
     "text": [
      "<class 'dict'>\n",
      "{1: 3, 'had': 'great day', 'known': 'for happy'}\n",
      "dict_values([3, 'great day', 'for happy'])\n",
      "dict_keys([1, 'had', 'known'])\n",
      "dict_items([(1, 3), ('had', 'great day'), ('known', 'for happy')])\n"
     ]
    }
   ],
   "source": [
    "b={\n",
    "    1:3,\n",
    "    \"had\":\"great day\",\n",
    "    \"known\":\"for happy\"\n",
    "}\n",
    "print(type(b))\n",
    "print(b)\n",
    "print(b.values())\n",
    "print(b.keys())\n",
    "print(b.items())"
   ]
  },
  {
   "cell_type": "code",
   "execution_count": null,
   "id": "227d3974",
   "metadata": {},
   "outputs": [],
   "source": []
  },
  {
   "cell_type": "code",
   "execution_count": null,
   "id": "5ad13962",
   "metadata": {},
   "outputs": [],
   "source": []
  },
  {
   "cell_type": "code",
   "execution_count": null,
   "id": "d4f374e9",
   "metadata": {},
   "outputs": [],
   "source": []
  },
  {
   "cell_type": "code",
   "execution_count": 21,
   "id": "81677414",
   "metadata": {},
   "outputs": [],
   "source": [
    "SETS "
   ]
  },
  {
   "cell_type": "code",
   "execution_count": 23,
   "id": "478fe954",
   "metadata": {},
   "outputs": [
    {
     "name": "stdout",
     "output_type": "stream",
     "text": [
      "<class 'set'>\n",
      "{1, 2, 3, 4, 5}\n"
     ]
    }
   ],
   "source": [
    "a={1,3,4,5,1,2,3}\n",
    "print(type(a))\n",
    "print(a)\n",
    "\n",
    "#here in sets it removes other repetative items and print the element once"
   ]
  },
  {
   "cell_type": "code",
   "execution_count": 24,
   "id": "ed5db2b3",
   "metadata": {},
   "outputs": [
    {
     "name": "stdout",
     "output_type": "stream",
     "text": [
      "<class 'dict'>\n"
     ]
    }
   ],
   "source": [
    "#empty set \n",
    "a={}\n",
    "print(type(a))   #it will be in class- dict\n"
   ]
  },
  {
   "cell_type": "code",
   "execution_count": 27,
   "id": "e7f4c2d3",
   "metadata": {},
   "outputs": [
    {
     "name": "stdout",
     "output_type": "stream",
     "text": [
      "<class 'set'>\n"
     ]
    }
   ],
   "source": [
    "#but for an empty set we have to use \n",
    "b=(set())\n",
    "print(type(b))"
   ]
  },
  {
   "cell_type": "code",
   "execution_count": 28,
   "id": "b8569105",
   "metadata": {},
   "outputs": [
    {
     "name": "stdout",
     "output_type": "stream",
     "text": [
      "<class 'set'>\n"
     ]
    }
   ],
   "source": [
    "b=set()\n",
    "print(type(b))\n"
   ]
  },
  {
   "cell_type": "code",
   "execution_count": 32,
   "id": "63fa8ab6",
   "metadata": {},
   "outputs": [
    {
     "name": "stdout",
     "output_type": "stream",
     "text": [
      "{2, 3, 6, 7}\n"
     ]
    }
   ],
   "source": [
    "#adding values to a set\n",
    "b=set()\n",
    "b.add(2)\n",
    "b.add(3)\n",
    "b.add(6)\n",
    "b.add(7)\n",
    "b.add(2)\n",
    "b.add(3)\n",
    "b.add(3)\n",
    "b.add(3)\n",
    "b.add(3)\n",
    "print(b)"
   ]
  },
  {
   "cell_type": "code",
   "execution_count": 34,
   "id": "45b7e6bd",
   "metadata": {},
   "outputs": [
    {
     "ename": "TypeError",
     "evalue": "unhashable type: 'list'",
     "output_type": "error",
     "traceback": [
      "\u001b[1;31m---------------------------------------------------------------------------\u001b[0m",
      "\u001b[1;31mTypeError\u001b[0m                                 Traceback (most recent call last)",
      "Input \u001b[1;32mIn [34]\u001b[0m, in \u001b[0;36m<cell line: 6>\u001b[1;34m()\u001b[0m\n\u001b[0;32m      4\u001b[0m b\u001b[38;5;241m.\u001b[39madd(\u001b[38;5;241m3\u001b[39m)\n\u001b[0;32m      5\u001b[0m b\u001b[38;5;241m.\u001b[39madd(\u001b[38;5;241m6\u001b[39m)\n\u001b[1;32m----> 6\u001b[0m \u001b[43mb\u001b[49m\u001b[38;5;241;43m.\u001b[39;49m\u001b[43madd\u001b[49m\u001b[43m(\u001b[49m\u001b[43m[\u001b[49m\u001b[38;5;241;43m2\u001b[39;49m\u001b[43m,\u001b[49m\u001b[38;5;241;43m4\u001b[39;49m\u001b[43m,\u001b[49m\u001b[38;5;241;43m6\u001b[39;49m\u001b[43m]\u001b[49m\u001b[43m)\u001b[49m\n\u001b[0;32m      7\u001b[0m \u001b[38;5;28mprint\u001b[39m(b)\n",
      "\u001b[1;31mTypeError\u001b[0m: unhashable type: 'list'"
     ]
    }
   ],
   "source": [
    "#we cant add list in a set\n",
    "b=set()\n",
    "b.add(2)\n",
    "b.add(3)\n",
    "b.add(6)\n",
    "b.add([2,4,6]) #list\n",
    "print(b)\n",
    "                 \n",
    "                    ##since list can be changed or it is a mutable thing we cant use list in this##"
   ]
  },
  {
   "cell_type": "code",
   "execution_count": 35,
   "id": "34d5d6dc",
   "metadata": {},
   "outputs": [
    {
     "name": "stdout",
     "output_type": "stream",
     "text": [
      "{2, 3, (5, 6, 7, 8), 6}\n"
     ]
    }
   ],
   "source": [
    "## but tuples can be used\n",
    "b=set()\n",
    "b.add(2)\n",
    "b.add(3)\n",
    "b.add(6)\n",
    "b.add((5,6,7,8))\n",
    "print(b)"
   ]
  },
  {
   "cell_type": "code",
   "execution_count": 36,
   "id": "4bc00fae",
   "metadata": {},
   "outputs": [
    {
     "ename": "TypeError",
     "evalue": "unhashable type: 'set'",
     "output_type": "error",
     "traceback": [
      "\u001b[1;31m---------------------------------------------------------------------------\u001b[0m",
      "\u001b[1;31mTypeError\u001b[0m                                 Traceback (most recent call last)",
      "Input \u001b[1;32mIn [36]\u001b[0m, in \u001b[0;36m<cell line: 6>\u001b[1;34m()\u001b[0m\n\u001b[0;32m      4\u001b[0m b\u001b[38;5;241m.\u001b[39madd(\u001b[38;5;241m3\u001b[39m)\n\u001b[0;32m      5\u001b[0m b\u001b[38;5;241m.\u001b[39madd(\u001b[38;5;241m6\u001b[39m)\n\u001b[1;32m----> 6\u001b[0m \u001b[43mb\u001b[49m\u001b[38;5;241;43m.\u001b[39;49m\u001b[43madd\u001b[49m\u001b[43m(\u001b[49m\u001b[43m{\u001b[49m\u001b[38;5;241;43m2\u001b[39;49m\u001b[43m,\u001b[49m\u001b[38;5;241;43m4\u001b[39;49m\u001b[43m,\u001b[49m\u001b[38;5;241;43m5\u001b[39;49m\u001b[43m,\u001b[49m\u001b[38;5;241;43m6\u001b[39;49m\u001b[43m}\u001b[49m\u001b[43m)\u001b[49m\n\u001b[0;32m      7\u001b[0m \u001b[38;5;28mprint\u001b[39m(b)\n",
      "\u001b[1;31mTypeError\u001b[0m: unhashable type: 'set'"
     ]
    }
   ],
   "source": [
    "## dictionary can also not added in set\n",
    "b=set()\n",
    "b.add(2)\n",
    "b.add(3)\n",
    "b.add(6)\n",
    "b.add({2,4,5,6})\n",
    "print(b)"
   ]
  },
  {
   "cell_type": "code",
   "execution_count": 55,
   "id": "035e829e",
   "metadata": {},
   "outputs": [
    {
     "name": "stdout",
     "output_type": "stream",
     "text": [
      "<class 'set'>\n",
      "{1, 2, 34, 3, 5, 6}\n",
      "6\n"
     ]
    }
   ],
   "source": [
    "a={1,34,5,6,3,5,3,2}\n",
    "print(type(a))\n",
    "print(a)\n",
    "print(len(a))  #legnth of set"
   ]
  },
  {
   "cell_type": "code",
   "execution_count": 60,
   "id": "b8b24d0f",
   "metadata": {},
   "outputs": [
    {
     "name": "stdout",
     "output_type": "stream",
     "text": [
      "{1, 34, 5, 6}\n"
     ]
    }
   ],
   "source": [
    "##remove an element\n",
    "a={1, 2, 34, 3, 5, 6}\n",
    "a.remove(2)\n",
    "a.remove(3)\n",
    "print(a)"
   ]
  },
  {
   "cell_type": "code",
   "execution_count": 61,
   "id": "9bb4db44",
   "metadata": {},
   "outputs": [
    {
     "ename": "KeyError",
     "evalue": "24",
     "output_type": "error",
     "traceback": [
      "\u001b[1;31m---------------------------------------------------------------------------\u001b[0m",
      "\u001b[1;31mKeyError\u001b[0m                                  Traceback (most recent call last)",
      "Input \u001b[1;32mIn [61]\u001b[0m, in \u001b[0;36m<cell line: 6>\u001b[1;34m()\u001b[0m\n\u001b[0;32m      4\u001b[0m a\u001b[38;5;241m.\u001b[39mremove(\u001b[38;5;241m2\u001b[39m)\n\u001b[0;32m      5\u001b[0m a\u001b[38;5;241m.\u001b[39mremove(\u001b[38;5;241m3\u001b[39m)\n\u001b[1;32m----> 6\u001b[0m \u001b[43ma\u001b[49m\u001b[38;5;241;43m.\u001b[39;49m\u001b[43mremove\u001b[49m\u001b[43m(\u001b[49m\u001b[38;5;241;43m24\u001b[39;49m\u001b[43m)\u001b[49m\n\u001b[0;32m      7\u001b[0m \u001b[38;5;28mprint\u001b[39m(a)\n",
      "\u001b[1;31mKeyError\u001b[0m: 24"
     ]
    }
   ],
   "source": [
    "##  but shows an error when removing an element which is not present in the set\n",
    "\n",
    "a={1, 2, 34, 3, 5, 6}\n",
    "a.remove(2)\n",
    "a.remove(3)\n",
    "a.remove(24)\n",
    "print(a)"
   ]
  },
  {
   "cell_type": "code",
   "execution_count": 64,
   "id": "a5c1993e",
   "metadata": {},
   "outputs": [
    {
     "name": "stdout",
     "output_type": "stream",
     "text": [
      "{2, 3, 34, 5, 6}\n"
     ]
    }
   ],
   "source": [
    "a={1, 2, 34, 3, 5, 6}\n",
    "a.pop()\n",
    "print(a)   \n",
    "                #it removes or pops any value"
   ]
  },
  {
   "cell_type": "code",
   "execution_count": 65,
   "id": "3e1be2b5",
   "metadata": {},
   "outputs": [
    {
     "name": "stdout",
     "output_type": "stream",
     "text": [
      "set()\n"
     ]
    }
   ],
   "source": [
    "a={1, 2, 34, 3, 5, 6}\n",
    "a.clear()\n",
    "print(a)\n",
    "            ##clears the set"
   ]
  },
  {
   "cell_type": "code",
   "execution_count": 81,
   "id": "0013fab4",
   "metadata": {},
   "outputs": [
    {
     "name": "stdout",
     "output_type": "stream",
     "text": [
      "{1, 2, 3, 4, 5, 6, 7, 8, 9, 10}\n",
      "{8, 2, 4, 6}\n"
     ]
    }
   ],
   "source": [
    "a={1,2,3,4,5,6,7,8}\n",
    "\n",
    "print(a.union({2,4,6,8,9,10}))\n",
    "print(a.intersection({2,4,6,8,9,10}))\n"
   ]
  },
  {
   "cell_type": "code",
   "execution_count": null,
   "id": "9f31a220",
   "metadata": {},
   "outputs": [],
   "source": []
  },
  {
   "cell_type": "code",
   "execution_count": null,
   "id": "5df97007",
   "metadata": {},
   "outputs": [],
   "source": []
  },
  {
   "cell_type": "code",
   "execution_count": null,
   "id": "5f0b0113",
   "metadata": {},
   "outputs": [],
   "source": []
  },
  {
   "cell_type": "code",
   "execution_count": null,
   "id": "dab494bc",
   "metadata": {},
   "outputs": [],
   "source": []
  },
  {
   "cell_type": "code",
   "execution_count": null,
   "id": "ebe1c372",
   "metadata": {},
   "outputs": [],
   "source": [
    "PRACTICE QUESTIONS"
   ]
  },
  {
   "cell_type": "code",
   "execution_count": null,
   "id": "cac2130e",
   "metadata": {},
   "outputs": [],
   "source": []
  },
  {
   "cell_type": "code",
   "execution_count": 96,
   "id": "562e5f7e",
   "metadata": {},
   "outputs": [
    {
     "name": "stdout",
     "output_type": "stream",
     "text": [
      "<class 'dict'>\n",
      "yours options are:  dict_keys(['pankha', 'dabba', 'kursi'])\n",
      "choose the item you want to translate: pankha\n",
      "your answer is  fan\n"
     ]
    }
   ],
   "source": [
    "#QUE.1\n",
    "\n",
    "mydict={\n",
    "    \"pankha\":\"fan\",\n",
    "    \"dabba\":\"box\",\n",
    "    \"kursi\":\"chair\"\n",
    "}\n",
    "print(type(mydict))\n",
    "\n",
    "print(\"yours options are: \",mydict.keys())\n",
    "a=input(\"choose the item you want to translate: \")\n",
    "print(\"your answer is \",mydict[a])"
   ]
  },
  {
   "cell_type": "code",
   "execution_count": null,
   "id": "fb0be3ef",
   "metadata": {},
   "outputs": [],
   "source": [
    "mydict={\n",
    "    \"fan\":\"pankha\",\n",
    "    \"mobile\":\"sdfg\",\n",
    "    \"dfd\":\"sdgbsdgsf\",\n",
    "    \"fsdb\":\"sdfgbsaww\"\n",
    "}\n",
    "\n",
    "a=input()\n",
    "print(mydict.get(a))\n",
    "\n",
    "\n",
    "\n"
   ]
  },
  {
   "cell_type": "code",
   "execution_count": null,
   "id": "9ae58e37",
   "metadata": {},
   "outputs": [],
   "source": [
    "a=(input(\"enter 8 num: \"))\n",
    "\n",
    "\n",
    "b=set(a)\n",
    "print(b)"
   ]
  },
  {
   "cell_type": "code",
   "execution_count": null,
   "id": "a4d633f4",
   "metadata": {},
   "outputs": [],
   "source": []
  },
  {
   "cell_type": "code",
   "execution_count": null,
   "id": "f1ae76d8",
   "metadata": {},
   "outputs": [],
   "source": []
  }
 ],
 "metadata": {
  "kernelspec": {
   "display_name": "Python 3 (ipykernel)",
   "language": "python",
   "name": "python3"
  },
  "language_info": {
   "codemirror_mode": {
    "name": "ipython",
    "version": 3
   },
   "file_extension": ".py",
   "mimetype": "text/x-python",
   "name": "python",
   "nbconvert_exporter": "python",
   "pygments_lexer": "ipython3",
   "version": "3.9.12"
  }
 },
 "nbformat": 4,
 "nbformat_minor": 5
}
