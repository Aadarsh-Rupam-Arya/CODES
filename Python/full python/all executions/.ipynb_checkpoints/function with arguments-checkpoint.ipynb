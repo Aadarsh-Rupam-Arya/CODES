{
 "cells": [
  {
   "cell_type": "code",
   "execution_count": 5,
   "id": "8172df9a",
   "metadata": {},
   "outputs": [
    {
     "name": "stdout",
     "output_type": "stream",
     "text": [
      "your name: Aadarsh Arya\n",
      "good day, Aadarsh Arya\n"
     ]
    }
   ],
   "source": [
    "def greet(a):\n",
    "    print(\"good day, \"+a)\n",
    "a=input(\"your name: \")\n",
    "greet(a)\n"
   ]
  },
  {
   "cell_type": "code",
   "execution_count": 10,
   "id": "1235ee77",
   "metadata": {},
   "outputs": [
    {
     "name": "stdout",
     "output_type": "stream",
     "text": [
      "wqe\n",
      "wqer\n",
      "wqewqer\n"
     ]
    }
   ],
   "source": [
    "def red(a,b):\n",
    "    return(a+b)\n",
    "d=(input())\n",
    "g=(input())\n",
    "\n",
    "j= red(d,g)\n",
    "print(j)"
   ]
  },
  {
   "cell_type": "code",
   "execution_count": null,
   "id": "6eddd137",
   "metadata": {},
   "outputs": [],
   "source": []
  },
  {
   "cell_type": "code",
   "execution_count": null,
   "id": "b46c3737",
   "metadata": {},
   "outputs": [],
   "source": []
  }
 ],
 "metadata": {
  "kernelspec": {
   "display_name": "Python 3 (ipykernel)",
   "language": "python",
   "name": "python3"
  },
  "language_info": {
   "codemirror_mode": {
    "name": "ipython",
    "version": 3
   },
   "file_extension": ".py",
   "mimetype": "text/x-python",
   "name": "python",
   "nbconvert_exporter": "python",
   "pygments_lexer": "ipython3",
   "version": "3.9.12"
  }
 },
 "nbformat": 4,
 "nbformat_minor": 5
}
