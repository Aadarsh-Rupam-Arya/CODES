{
 "cells": [
  {
   "cell_type": "code",
   "execution_count": null,
   "id": "7fa3b3e4",
   "metadata": {},
   "outputs": [
    {
     "name": "stdout",
     "output_type": "stream",
     "text": [
      "Enter a term: 5\n"
     ]
    }
   ],
   "source": [
    "def fibo(a):\n",
    "    if (a<1):\n",
    "        print(\"Enter again\")\n",
    "    elif (a==1):\n",
    "        return 0\n",
    "    elif (a==2):\n",
    "        return 1\n",
    "    else:\n",
    "        return (fibo(a)+fibo(a-2))\n",
    "a=int(input(\"Enter a term: \"))\n",
    "print(fibo(a)) "
   ]
  },
  {
   "cell_type": "code",
   "execution_count": null,
   "id": "ffed2220",
   "metadata": {},
   "outputs": [],
   "source": []
  }
 ],
 "metadata": {
  "kernelspec": {
   "display_name": "Python 3 (ipykernel)",
   "language": "python",
   "name": "python3"
  },
  "language_info": {
   "codemirror_mode": {
    "name": "ipython",
    "version": 3
   },
   "file_extension": ".py",
   "mimetype": "text/x-python",
   "name": "python",
   "nbconvert_exporter": "python",
   "pygments_lexer": "ipython3",
   "version": "3.9.12"
  }
 },
 "nbformat": 4,
 "nbformat_minor": 5
}
