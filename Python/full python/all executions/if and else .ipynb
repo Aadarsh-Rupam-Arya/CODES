{
 "cells": [
  {
   "cell_type": "code",
   "execution_count": 2,
   "id": "a5203664",
   "metadata": {},
   "outputs": [
    {
     "name": "stdout",
     "output_type": "stream",
     "text": [
      "65\n",
      "you can vote\n"
     ]
    }
   ],
   "source": [
    "#if else statements\n",
    "a=int(input())\n",
    "if(a>=18):\n",
    "    print(\"you can vote\")\n",
    "else:\n",
    "    print(\"you are underage\")"
   ]
  },
  {
   "cell_type": "code",
   "execution_count": null,
   "id": "a45d33ef",
   "metadata": {},
   "outputs": [],
   "source": [
    "#how to bring an even and odd no \n",
    "\n",
    "#even\n",
    "(a%2==0)\n",
    "#odd\n",
    "(a%2!=0)\n"
   ]
  },
  {
   "cell_type": "code",
   "execution_count": 9,
   "id": "5e4c36a9",
   "metadata": {},
   "outputs": [
    {
     "name": "stdout",
     "output_type": "stream",
     "text": [
      "enter no: 2\n",
      "its even\n"
     ]
    }
   ],
   "source": [
    "a=int(input(\"enter no: \"))\n",
    "if(a%2==0):\n",
    "    print(\"its even\")\n",
    "else:\n",
    "    print(\"its odd\")\n",
    "    "
   ]
  },
  {
   "cell_type": "code",
   "execution_count": 10,
   "id": "8a1954bf",
   "metadata": {},
   "outputs": [
    {
     "name": "stdout",
     "output_type": "stream",
     "text": [
      "enter no: 24\n",
      "its even\n",
      "enter no: 23\n",
      "its odd\n"
     ]
    }
   ],
   "source": [
    "a=int(input(\"enter no: \"))\n",
    "if(a%2==0):\n",
    "    print(\"its even\")\n",
    "else:\n",
    "    print(\"its odd\")\n",
    "b=int(input(\"enter no: \"))\n",
    "if(b%2==0):\n",
    "    print(\"its even\")\n",
    "else:\n",
    "    print(\"its odd\")\n",
    "    \n",
    "    "
   ]
  },
  {
   "cell_type": "code",
   "execution_count": null,
   "id": "5fcc335f",
   "metadata": {},
   "outputs": [],
   "source": [
    "a=int(input(\"Enter your 1st value: \"))\n",
    "c=input((\"+,-,*,%,/,//\"))\n",
    "c=int(input(\"Enter your 2st value: \"))\n",
    "if "
   ]
  },
  {
   "cell_type": "code",
   "execution_count": null,
   "id": "2e43b588",
   "metadata": {},
   "outputs": [],
   "source": []
  }
 ],
 "metadata": {
  "kernelspec": {
   "display_name": "Python 3 (ipykernel)",
   "language": "python",
   "name": "python3"
  },
  "language_info": {
   "codemirror_mode": {
    "name": "ipython",
    "version": 3
   },
   "file_extension": ".py",
   "mimetype": "text/x-python",
   "name": "python",
   "nbconvert_exporter": "python",
   "pygments_lexer": "ipython3",
   "version": "3.9.12"
  }
 },
 "nbformat": 4,
 "nbformat_minor": 5
}
