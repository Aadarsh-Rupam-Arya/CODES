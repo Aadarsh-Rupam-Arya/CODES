{
 "cells": [
  {
   "cell_type": "code",
   "execution_count": 3,
   "id": "fc0adaa8",
   "metadata": {},
   "outputs": [
    {
     "name": "stdout",
     "output_type": "stream",
     "text": [
      "[1, 2, 3, 4, 5, 6]\n"
     ]
    }
   ],
   "source": [
    "a=[1,2,3,4,5]\n",
    "a.append(6)\n",
    "print(a)"
   ]
  },
  {
   "cell_type": "code",
   "execution_count": 4,
   "id": "e790d784",
   "metadata": {},
   "outputs": [
    {
     "name": "stdout",
     "output_type": "stream",
     "text": [
      "3\n"
     ]
    }
   ],
   "source": [
    "a=[1,2,3,4,5,5,3,3,2,2]\n",
    "print(a.count(3))"
   ]
  },
  {
   "cell_type": "code",
   "execution_count": 5,
   "id": "96e4fe12",
   "metadata": {},
   "outputs": [],
   "source": [
    "a=[1,2,3,4]\n"
   ]
  },
  {
   "cell_type": "code",
   "execution_count": 25,
   "id": "300c3f71",
   "metadata": {},
   "outputs": [
    {
     "name": "stdout",
     "output_type": "stream",
     "text": [
      "6\n",
      "34\n",
      "1\n",
      "[(0, 5), (1, 3), (2, 2), (3, 5), (4, 1), (5, 34)]\n",
      "True\n",
      "True\n",
      "False\n",
      "50\n"
     ]
    }
   ],
   "source": [
    "a=[5,3,2,5,1,34]\n",
    "print(len(a))\n",
    "print(max(a))\n",
    "print(min(a))\n",
    "print(list(enumerate(a)))\n",
    "\n",
    "#all fnc- true if all elements in the list is non zero\n",
    "print(all(a))\n",
    "\n",
    "#any fnc - True if any non zero element present in list is nonzero\n",
    "#             false if no nonzero element is present in list\n",
    "print(any(a))\n",
    "print(any([0,0,0,0]))\n",
    "\n",
    "# sum fnc - for sum of all elem present \n",
    "print(sum(a))\n",
    "\n"
   ]
  },
  {
   "cell_type": "code",
   "execution_count": 27,
   "id": "ee9d33c6",
   "metadata": {},
   "outputs": [
    {
     "name": "stdout",
     "output_type": "stream",
     "text": [
      "[5, 3, 2, 5, 1, 34, 54, 39]\n"
     ]
    }
   ],
   "source": [
    "# append fnc to add any elem in the list\n",
    "a=[5,3,2,5,1,34]\n",
    "(a.append(54))\n",
    "(a.append(39))\n",
    "print(a)"
   ]
  },
  {
   "cell_type": "code",
   "execution_count": 28,
   "id": "2b3a8ab5",
   "metadata": {},
   "outputs": [
    {
     "name": "stdout",
     "output_type": "stream",
     "text": [
      "[1, 2, 3, 4, 34, 56, 74]\n"
     ]
    }
   ],
   "source": [
    "# extend fnc  - to add or combine any two lists\n",
    "a=[1,2,3,4]\n",
    "b=[34,56,74]\n",
    "\n",
    "a.extend(b)\n",
    "print(a)"
   ]
  },
  {
   "cell_type": "code",
   "execution_count": 32,
   "id": "176e3a64",
   "metadata": {},
   "outputs": [
    {
     "name": "stdout",
     "output_type": "stream",
     "text": [
      "[3456676, 1, 75, 2, 3, 4]\n"
     ]
    }
   ],
   "source": [
    "# insert fnc - to insert elements in the index of a list \n",
    "#        ex (  a.insert( index , element )    )   \n",
    " \n",
    "a=[1,2,3,4]\n",
    "a.insert(1,75)\n",
    "a.insert(0,3456676)\n",
    "print(a)"
   ]
  },
  {
   "cell_type": "code",
   "execution_count": null,
   "id": "2b13d0da",
   "metadata": {},
   "outputs": [],
   "source": []
  }
 ],
 "metadata": {
  "kernelspec": {
   "display_name": "Python 3 (ipykernel)",
   "language": "python",
   "name": "python3"
  },
  "language_info": {
   "codemirror_mode": {
    "name": "ipython",
    "version": 3
   },
   "file_extension": ".py",
   "mimetype": "text/x-python",
   "name": "python",
   "nbconvert_exporter": "python",
   "pygments_lexer": "ipython3",
   "version": "3.9.12"
  }
 },
 "nbformat": 4,
 "nbformat_minor": 5
}
