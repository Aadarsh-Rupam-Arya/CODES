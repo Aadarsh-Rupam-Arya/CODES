{
 "cells": [
  {
   "cell_type": "code",
   "execution_count": null,
   "id": "2c7e173c",
   "metadata": {},
   "outputs": [],
   "source": [
    "#Syntax\n",
    "class Class_Name: \n",
    "\tvariable1\n",
    "\tvariable2  \n",
    "\t...\n",
    "\tvariableN\n",
    "\t\n",
    "\tdef __init__(self,arg1,...,argn):\n",
    "\t\n",
    "\tdef Method1(self,arg1,...,argn):\n",
    "\t\n",
    "\tdef Method2(self):\n",
    "\t...\n",
    "\tdef MethodN(self,arg1,...,argn):"
   ]
  },
  {
   "cell_type": "code",
   "execution_count": null,
   "id": "da741677",
   "metadata": {},
   "outputs": [],
   "source": [
    "class Humans:\n",
    "    #attributes/class variables\n",
    "    two eyes=2\n",
    "    two ears=2\n",
    "    two arms=2\n",
    "    #functions/ Methods \n",
    "    def sleep():\n",
    "        pass\n",
    "    def work():\n",
    "        pass\n",
    "    def talk():\n",
    "        pass\n",
    "ob=Humans()#object/instance\n",
    "ob.two eyes#objectname.attributename\n",
    "ob.sleep()#objectname.function\n",
    "Rahul=Humans()#object/instance\n",
    "Raj=Humans()#object/instance"
   ]
  },
  {
   "cell_type": "code",
   "execution_count": 2,
   "id": "f55877de",
   "metadata": {},
   "outputs": [
    {
     "name": "stdout",
     "output_type": "stream",
     "text": [
      "Stud_1.name: SriRam\n",
      "Stud_1.age: 25\n",
      "Stud_1.graduate: MBA\n",
      "Stud_2.name: Lakshman\n",
      "Stud_2.age: 23\n",
      "Stud_2.graduate: Engineer\n"
     ]
    }
   ],
   "source": [
    "class Student:\n",
    "\tpass\n",
    "Stud_1 = Student()  \n",
    "Stud_2 = Student()\n",
    "Stud_1.name = 'SriRam'\n",
    "Stud_1.age = 25\n",
    "Stud_1.graduate = 'MBA'\n",
    "Stud_2.name = 'Lakshman'\n",
    "Stud_2.age = 23\n",
    "Stud_2.graduate = 'Engineer'\n",
    "print(\"Stud_1.name:\", Stud_1.name)\n",
    "print(\"Stud_1.age:\", Stud_1.age)\n",
    "print(\"Stud_1.graduate:\", Stud_1.graduate)\n",
    "print(\"Stud_2.name:\", Stud_2.name)\n",
    "print(\"Stud_2.age:\", Stud_2.age)\n",
    "print(\"Stud_2.graduate:\", Stud_2.graduate)"
   ]
  },
  {
   "cell_type": "code",
   "execution_count": 5,
   "id": "1c48f8df",
   "metadata": {},
   "outputs": [
    {
     "name": "stdout",
     "output_type": "stream",
     "text": [
      "name: aditya\n",
      "Emp_1.name: aditya\n",
      "Emp_1.salary: 25000\n"
     ]
    }
   ],
   "source": [
    "class Employee:\n",
    "\tpass\n",
    "Emp_1 = Employee()\n",
    "name = input(\"name: \")\n",
    "Emp_1.name = name\n",
    "Emp_1.age = 25\n",
    "Emp_1.salary = 25000\n",
    "print('Emp_1.name:', Emp_1.name)\n",
    "print('Emp_1.salary:', Emp_1.salary)"
   ]
  },
  {
   "cell_type": "code",
   "execution_count": 6,
   "id": "9f6b72ba",
   "metadata": {},
   "outputs": [
    {
     "name": "stdout",
     "output_type": "stream",
     "text": [
      "Stud_1 details = SriRam 25 ram@sch.com\n",
      "Stud_2 details = Lakshman 28 laks@sch.com\n"
     ]
    }
   ],
   "source": [
    "class Student:\n",
    "\t\n",
    "\t# define init method with self , name, age, email attributes\n",
    "\tdef __init__(self, name, age, email):\n",
    "\t\t\n",
    "\t\tself.name = name\n",
    "\t\tself.age = age\n",
    "\t\tself.email = email\n",
    "Stud_1 = Student('SriRam', 25, 'ram@sch.com') # type: Student\n",
    "Stud_2 = Student('Lakshman', 28, 'laks@sch.com')\n",
    "print('Stud_1 details =', Stud_1.name, Stud_1.age, Stud_1.email)\n",
    "print('Stud_2 details =', Stud_2.name, Stud_2.age, Stud_2.email)\n",
    "\n"
   ]
  },
  {
   "cell_type": "code",
   "execution_count": 7,
   "id": "f54a2c52",
   "metadata": {},
   "outputs": [
    {
     "name": "stdout",
     "output_type": "stream",
     "text": [
      "s1 name: Akash\n",
      "s1 age: 28\n",
      "s2 name: Aditya\n",
      "s2 age: 28\n",
      "Stud_1.name: Akash\n",
      "Stud_2.name: Aditya\n"
     ]
    }
   ],
   "source": [
    "class Student:\n",
    "\tdef __init__(self, name, age, email):\n",
    "\t\tself.name = name\n",
    "\t\tself.age = age\n",
    "\t\tself.email = email\n",
    "name = input(\"s1 name: \")\n",
    "age = int(input(\"s1 age: \"))\n",
    "Stud_1 = Student(name, age, 'arya@gmail.com')  # type: Student\n",
    "name = input(\"s2 name: \")\n",
    "age = int(input(\"s2 age: \"))\n",
    "Stud_2 = Student(name, age,'geetha@gmail.com')\n",
    "print('Stud_1.name:', Stud_1.name)\n",
    "print('Stud_2.name:', Stud_2.name)"
   ]
  },
  {
   "cell_type": "code",
   "execution_count": 8,
   "id": "4d88e45e",
   "metadata": {},
   "outputs": [
    {
     "name": "stdout",
     "output_type": "stream",
     "text": [
      "brown\n"
     ]
    }
   ],
   "source": [
    "\n",
    "class Dog:\n",
    "    # Class Variable\n",
    "    animal = 'dog'\n",
    "    # The init method or constructor\n",
    "    def __init__(self, breed):\n",
    "        # Instance Variable\n",
    "        self.breed = breed\n",
    "    # Adds an instance variable\n",
    "    def setColor(self, color):\n",
    "        self.color = color\n",
    "    # Retrieves instance variable\n",
    "    def getColor(self):\n",
    "        return self.color\n",
    "# Driver Code\n",
    "Rodger = Dog(\"pug\")\n",
    "Rodger.setColor(\"brown\")\n",
    "print(Rodger.getColor())"
   ]
  },
  {
   "cell_type": "code",
   "execution_count": null,
   "id": "139073a5",
   "metadata": {},
   "outputs": [],
   "source": [
    "'''\n",
    "Define a class Person.\n",
    "Add a method setName() which takes self and name as parameters.\n",
    "Inside the method, set self.name= name.\n",
    "Add a method getName() which takes self as parameter.\n",
    "Inside the method return self.name.\n",
    "Create two instances of the class Person p1 and p2.\n",
    "Take the input name from the user.\n",
    "Call the method setName() on p1 and pass name as parameter.\n",
    "Take the input name from the user.\n",
    "Call the method setName() on p2 and pass name as parameter.\n",
    "Call the method getName() on p1.\n",
    "Call the method getName() on p2.'''\n",
    "class Person:\n",
    "\tdef setName(self, name):\n",
    "\t\tself.name = name\n",
    "\tdef getName(self):\n",
    "\t\tprint(self.name)\n",
    "p1 = Person()\n",
    "p2 = Person()\n",
    "name = input(\"name1: \")\n",
    "p1.setName(name)\n",
    "name = input(\"name2: \")\n",
    "p2.setName(name)\n",
    "p1.getName()\n",
    "p2.getName()"
   ]
  },
  {
   "cell_type": "code",
   "execution_count": null,
   "id": "c5b5aacf",
   "metadata": {},
   "outputs": [],
   "source": [
    "'''A base class Person and a derived class Student \n",
    "with Person as its base class.\n",
    "Add two methods setname() (which takes the parameter self and name)\n",
    "and getname() which prints the name in the base class.\n",
    "Add two methods in the derived class: \n",
    "setage() (which takes the parameters self and age) which sets the age and\n",
    "getage() which prints the age.\n",
    "Create an instance of Student and name it as s1.\n",
    "Take name and age as inputs from the console.\n",
    "Call the setname() and setage() on this instance by passing the name\n",
    "and age parameters.\n",
    "Call the getname() and getage() on this class, which prints the passed\n",
    "parameters\n",
    "\n",
    "'''\n",
    "\n",
    "class Person:# person->Parent class\n",
    "\tdef setname(self, name):\n",
    "\t\tself.name = name# s1.name=\"A\"\n",
    "\tdef getname(self):\n",
    "\t\tprint(self.name) # A\n",
    "class Student(Person):# Student->child class\n",
    "\tdef setage(self, age):# s1.age=18\n",
    "\t\tself.age = age\n",
    "\tdef getage(self):\n",
    "\t\tprint(self.age) # 18\n",
    "name = input(\"Please enter a name: \")\n",
    "age = int(input(\"Please enter age: \"))\n",
    "s1 = Student()# s1 is the object of child class\n",
    "s1.setname(name)\n",
    "s1.setage(age)\n",
    "s1.getname()\n",
    "s1.getage()"
   ]
  },
  {
   "cell_type": "code",
   "execution_count": 1,
   "id": "68027db6",
   "metadata": {},
   "outputs": [
    {
     "name": "stdout",
     "output_type": "stream",
     "text": [
      "Car Details: \n",
      "EK-1\n",
      "V6\n",
      "236\n"
     ]
    }
   ],
   "source": [
    "#multiple inheritance\n",
    "class Car:# car->parent1\n",
    "\tdef setenginemodel(self, engine):\n",
    "\t\tself.engine = engine# engine=\"EK1\"\n",
    "\tdef getenginemodel(self):\n",
    "\t\tprint(self.engine) #EK1\n",
    "class Tyre:# type->parent2\n",
    "\tdef settyrenumber(self, num):\n",
    "\t\tself.num = num # num=236\n",
    "\tdef gettyrenumber(self):\n",
    "\t\tprint(self.num) # 236\n",
    "class Honda(Car, Tyre):# Honda->child \n",
    "\tdef setcarmodel(self, model):\n",
    "\t\tself.model = model# model=\"V6\"\n",
    "\tdef getcarmodel(self):\n",
    "\t\tprint(self.model)# v6\n",
    "accord = Honda()# object\n",
    "accord.setenginemodel('EK-1')\n",
    "accord.setcarmodel('V6')\n",
    "accord.settyrenumber(236)\n",
    "print('Car Details: ')\n",
    "accord.getenginemodel()\n",
    "accord.getcarmodel()\n",
    "accord.gettyrenumber()"
   ]
  },
  {
   "cell_type": "code",
   "execution_count": 2,
   "id": "440ed7d1",
   "metadata": {},
   "outputs": [
    {
     "name": "stdout",
     "output_type": "stream",
     "text": [
      "SriRam\n",
      "19\n",
      "Hyderabad\n"
     ]
    }
   ],
   "source": [
    "#multi-level inheritance\n",
    "\n",
    "\n",
    "class Person:# Parent class\n",
    "\tdef setname(self, name):\n",
    "\t\tself.name = name\n",
    "\tdef getname(self):\n",
    "\t\tprint(self.name)\n",
    "class Student(Person): # student is the child class of person class\n",
    "\tdef setage(self, age):\n",
    "\t\tself.age = age\n",
    "\tdef getage(self):\n",
    "\t\tprint(self.age)\n",
    "class Address(Student):# address is the child class of Student class\n",
    "\tdef setaddress(self, address):\n",
    "\t\tself.address = address\n",
    "\tdef getaddress(self):\n",
    "\t\tprint(self.address)\n",
    "s1 = Address()\n",
    "s1.setname('SriRam')\n",
    "s1.setage('19')\n",
    "s1.setaddress('Hyderabad')\n",
    "s1.getname()\n",
    "s1.getage()\n",
    "s1.getaddress()"
   ]
  },
  {
   "cell_type": "code",
   "execution_count": null,
   "id": "d31fd64e",
   "metadata": {},
   "outputs": [],
   "source": [
    "class Emp():# parent class\n",
    "    def __init__(self, id, name, Add):\n",
    "        self.id = id\n",
    "        self.name = name\n",
    "        self.Add = Add\n",
    " \n",
    "# Class freelancer inherits EMP\n",
    "class Freelance(Emp):# child class\n",
    "    def __init__(self, id, name, Add, Emails):\n",
    "        super().__init__(id, name, Add)\n",
    "        self.Emails = Emails\n",
    "Emp_1 = Freelance(103, \"Suraj kr gupta\", \"Noida\" , \"KKK@gmails\")\n",
    "print('The ID is:', Emp_1.id)\n",
    "print('The Name is:', Emp_1.name)\n",
    "print('The Address is:', Emp_1.Add)\n",
    "print('The Emails is:', Emp_1.Emails)"
   ]
  },
  {
   "cell_type": "code",
   "execution_count": 1,
   "id": "95c70e02",
   "metadata": {},
   "outputs": [
    {
     "name": "stdout",
     "output_type": "stream",
     "text": [
      "Hooray!\n"
     ]
    }
   ],
   "source": [
    "#method overriding\n",
    "class Abstract: # parent class\n",
    "\tdef foo(self):\n",
    "\t\tprint(\"Hello\")\n",
    "class Derived(Abstract):\n",
    "\tdef foo(self):\n",
    "\t\tprint('Hooray!')\n",
    "d = Derived()\n",
    "d.foo()"
   ]
  },
  {
   "cell_type": "code",
   "execution_count": null,
   "id": "57b5535c",
   "metadata": {},
   "outputs": [],
   "source": [
    "class Animal(): # parent class\n",
    "\tdef __init__(self, Name = \"This Animal\"):\n",
    "\t\tself.name = Name# Rabbit\n",
    "\tdef eat(self, food = \"Grass\"):\n",
    "\t\tprint(self.name, \"eats\", food)#Rabbit eats Grass # Rabbits eats \n",
    "        #peanuts\n",
    "class Mammal(Animal):\t#Inherits from Animal ; mammal-child (single level)\n",
    "\tdef eat(self):\n",
    "\t\tprint(self.name,\"does not eat. It only drinks\")\n",
    "class WingedAnimal(Animal):\t# winged animal-child class\n",
    "\tdef eat(self):\n",
    "\t\tprint(self.name, \"eats anything and everything\")\n",
    "# A bat is a winged mammal\n",
    "class Bat (WingedAnimal, Mammal):\t#Inherits from WingedAnimal, Mammal\n",
    "\tdef smell():\n",
    "\t\tprint(\"This Animal Stinks\")\n",
    "class FruitBat(Mammal, WingedAnimal):\t#Inherits from Mammal, WingedAnimal\n",
    "\tdef smell():\n",
    "\t\tprint(\"This Animal Stinks\")\n",
    "\n",
    "rabbit1 = Animal(\"Rabbit\")#object\n",
    "print(\"Rabbit1 is an instance of Animal\")\n",
    "rabbit1.eat()\t#Animal's eat method without food parameter\n",
    "rabbit1.eat(\"Peanuts\")\t#Animal's eat Method with Food Parameter\n",
    "print(\"Cow1 is an instance of Mammal\")\n",
    "cow1 = Mammal(\"Cow\")\n",
    "cow1.eat()\t#Mammal's eat method\n",
    "print(\"Vulture1 is an instance of WingedAnimal\")\n",
    "vulture1 = WingedAnimal(\"Vulture\")\n",
    "vulture1.eat()\t#WingedAnimal's eat method\n",
    "print(\"Bat1 is an instance of Bat\")\n",
    "bat1 = Bat(\"Bat\")         \n",
    "bat1.eat()\t#WingedAnimal's eat Method\n",
    "print(\"fbat is an instance of FruitBat\")\n"
   ]
  },
  {
   "cell_type": "code",
   "execution_count": 6,
   "id": "169d4b50",
   "metadata": {},
   "outputs": [
    {
     "name": "stdout",
     "output_type": "stream",
     "text": [
      "Student Report Card\n",
      "SriRam 19 CSC pass\n",
      "ECE\n"
     ]
    }
   ],
   "source": [
    "#Data hiding\n",
    "#Access specifiers - public and private\n",
    "class Student:\n",
    "\tgroup = \"ECE\" # private attributes\n",
    "\t__report = \"fail\"\n",
    "\t\n",
    "\tdef __init__(self,name,age):\n",
    "\t\tself.name = name\n",
    "\t\tself.age = age\n",
    "\t\n",
    "\tdef setDetails(self,__group,__report):\n",
    "\t\tself.__group = __group\n",
    "\t\tself.__report = __report\n",
    "\t\t\n",
    "\tdef getdetails(self):\n",
    "\t\tprint(self.name, self.age, self.__group, self.__report)\n",
    "# write your code here\n",
    "print(\"Student Report Card\")\n",
    "s1 = Student('SriRam', '19')\n",
    "s1.setDetails(\"CSC\", \"pass\")\n",
    "s1.getdetails()\n",
    "print(s1.group)"
   ]
  },
  {
   "cell_type": "code",
   "execution_count": null,
   "id": "28e4947b",
   "metadata": {},
   "outputs": [],
   "source": [
    "class Car:\n",
    "\t\n",
    "\t__engineno = \"EK1\"\n",
    "\t__modelno = \"VX6\"\n",
    "\tdef setcarinfo(self, engineno, modelno):\n",
    "\t\tself.__engineno = engineno\n",
    "\t\tself.__modelno = modelno\n",
    "\tdef getcarinfo(self):\n",
    "\t\tprint(self.__engineno, self.__modelno, self.color, self.year)\n",
    "hondacity = Car()\n",
    "engnumber = input(\"engine number: \")\n",
    "hondacity.setcarinfo(engnumber, \"SX6\")\n",
    "hondacity.color = \"Blue\"\n",
    "hondacity.year = \"2018\"\n",
    "hondacity.getcarinfo()\n",
    "\n",
    "# write your code here"
   ]
  }
 ],
 "metadata": {
  "kernelspec": {
   "display_name": "Python 3 (ipykernel)",
   "language": "python",
   "name": "python3"
  },
  "language_info": {
   "codemirror_mode": {
    "name": "ipython",
    "version": 3
   },
   "file_extension": ".py",
   "mimetype": "text/x-python",
   "name": "python",
   "nbconvert_exporter": "python",
   "pygments_lexer": "ipython3",
   "version": "3.9.12"
  }
 },
 "nbformat": 4,
 "nbformat_minor": 5
}
