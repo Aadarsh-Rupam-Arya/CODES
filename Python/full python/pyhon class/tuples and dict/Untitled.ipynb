{
 "cells": [
  {
   "cell_type": "code",
   "execution_count": 1,
   "id": "c563dd75",
   "metadata": {},
   "outputs": [],
   "source": [
    "#built in fnc"
   ]
  },
  {
   "cell_type": "code",
   "execution_count": 16,
   "id": "10530719",
   "metadata": {},
   "outputs": [
    {
     "name": "stdout",
     "output_type": "stream",
     "text": [
      "[0, 1, 2, 3, 4, 6, 7, 8, 32]\n",
      "63\n",
      "((0, 0), (1, 1), (2, 2), (3, 3), (4, 4), (5, 32), (6, 6), (7, 7), (8, 8))\n"
     ]
    }
   ],
   "source": [
    "a=(0,1,2,3,4,32,6,7,8)\n",
    "print(sorted(a))\n",
    "\n",
    "print(sum(a))\n",
    "print(tuple(enumerate(a)))"
   ]
  },
  {
   "cell_type": "code",
   "execution_count": null,
   "id": "2569b229",
   "metadata": {},
   "outputs": [],
   "source": []
  },
  {
   "cell_type": "code",
   "execution_count": null,
   "id": "6c7dada4",
   "metadata": {},
   "outputs": [],
   "source": []
  }
 ],
 "metadata": {
  "kernelspec": {
   "display_name": "Python 3 (ipykernel)",
   "language": "python",
   "name": "python3"
  },
  "language_info": {
   "codemirror_mode": {
    "name": "ipython",
    "version": 3
   },
   "file_extension": ".py",
   "mimetype": "text/x-python",
   "name": "python",
   "nbconvert_exporter": "python",
   "pygments_lexer": "ipython3",
   "version": "3.9.12"
  }
 },
 "nbformat": 4,
 "nbformat_minor": 5
}
