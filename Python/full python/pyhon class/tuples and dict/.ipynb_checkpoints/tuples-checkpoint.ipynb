{
 "cells": [
  {
   "cell_type": "code",
   "execution_count": 10,
   "id": "28e301d0",
   "metadata": {},
   "outputs": [
    {
     "name": "stdout",
     "output_type": "stream",
     "text": [
      "<class 'tuple'>\n"
     ]
    }
   ],
   "source": [
    "# tuples are immutable\n",
    "\n",
    "a=(1,2,3,4,5,6)\n",
    "print(type(a))"
   ]
  },
  {
   "cell_type": "code",
   "execution_count": 11,
   "id": "986556ad",
   "metadata": {},
   "outputs": [
    {
     "name": "stdout",
     "output_type": "stream",
     "text": [
      "[1, 45, 3, 4, 5, 6]\n"
     ]
    }
   ],
   "source": [
    "b=list(a)\n",
    "b[1]=45\n",
    "print(b)"
   ]
  },
  {
   "cell_type": "code",
   "execution_count": 14,
   "id": "85cd1300",
   "metadata": {},
   "outputs": [
    {
     "name": "stdout",
     "output_type": "stream",
     "text": [
      "1\n",
      "(2, 3, 4, 5, 6)\n"
     ]
    }
   ],
   "source": [
    "#indexing\n",
    "\n",
    "print(a[0])\n",
    "print(a[1:6])"
   ]
  },
  {
   "cell_type": "code",
   "execution_count": null,
   "id": "77a58247",
   "metadata": {},
   "outputs": [],
   "source": []
  },
  {
   "cell_type": "code",
   "execution_count": null,
   "id": "0eb154a3",
   "metadata": {},
   "outputs": [],
   "source": [
    "a=int(input(\"enter a num: \"))\n",
    "b=int(input(\"enter a num: \"))\n",
    "c=int(input(\"enter a num: \"))\n",
    "d=int(input(\"enter a num: \"))\n",
    "e=int(input(\"enter a num: \"))\n",
    "f=int(input(\"enter a num: \"))\n",
    "g=int(input(\"enter a num: \"))\n",
    "\n",
    "tupl=(a,b,c,d,e,f)\n",
    "print(tupl)\n",
    "print(type(tupl))\n",
    "\n",
    "print(len(tupl))\n",
    "\n",
    "\n",
    "index=(int(input(\"Enter the index you want: \")))\n",
    "\n",
    "listtup=list(tupl)\n",
    "\n",
    "if index<=len(listtup) and index>=-(len(listtup)):\n",
    "    print(\"element: \",+str(tupl[index]))\n",
    "    1\n",
    "elif index>(len(listtup)):\n",
    "    print(\"invalid\")\n",
    "    \n"
   ]
  },
  {
   "cell_type": "markdown",
   "id": "c467fb50",
   "metadata": {},
   "source": []
  }
 ],
 "metadata": {
  "kernelspec": {
   "display_name": "Python 3 (ipykernel)",
   "language": "python",
   "name": "python3"
  },
  "language_info": {
   "codemirror_mode": {
    "name": "ipython",
    "version": 3
   },
   "file_extension": ".py",
   "mimetype": "text/x-python",
   "name": "python",
   "nbconvert_exporter": "python",
   "pygments_lexer": "ipython3",
   "version": "3.9.12"
  }
 },
 "nbformat": 4,
 "nbformat_minor": 5
}
