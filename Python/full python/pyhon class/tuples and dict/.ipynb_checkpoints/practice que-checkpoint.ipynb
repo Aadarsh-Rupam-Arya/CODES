{
 "cells": [
  {
   "cell_type": "code",
   "execution_count": 3,
   "id": "1f9be218",
   "metadata": {},
   "outputs": [
    {
     "name": "stdout",
     "output_type": "stream",
     "text": [
      "enter a num: 1233\n",
      "enter a num: 23\n",
      "enter a num: 2\n",
      "enter a num: 3\n",
      "enter a num: 234\n",
      "enter a num: 2\n",
      "enter a num: 3\n",
      "(1233, 23, 2, 3, 234, 2)\n",
      "<class 'tuple'>\n",
      "6\n",
      "Enter the index you want: 1\n",
      "23\n"
     ]
    }
   ],
   "source": [
    "a=int(input(\"enter a num: \"))\n",
    "b=int(input(\"enter a num: \"))\n",
    "c=int(input(\"enter a num: \"))\n",
    "d=int(input(\"enter a num: \"))\n",
    "e=int(input(\"enter a num: \"))\n",
    "f=int(input(\"enter a num: \"))\n",
    "g=int(input(\"enter a num: \"))\n",
    "\n",
    "tupl=(a,b,c,d,e,f)\n",
    "print(tupl)\n",
    "print(type(tupl))\n",
    "\n",
    "print(len(tupl))\n",
    "\n",
    "\n",
    "index=(int(input(\"Enter the index you want: \")))\n",
    "\n",
    "listtup=list(tupl)\n",
    "\n",
    "if index<=len(listtup) and index>=-(len(listtup)):\n",
    "    print(tupl[index])\n",
    "    1\n",
    "elif index>(len(listtup)):\n",
    "    print(\"invalid\")"
   ]
  },
  {
   "cell_type": "markdown",
   "id": "d4eb6c14",
   "metadata": {},
   "source": []
  },
  {
   "cell_type": "code",
   "execution_count": 10,
   "id": "69859b69",
   "metadata": {},
   "outputs": [
    {
     "name": "stdout",
     "output_type": "stream",
     "text": [
      "a=(1,2,3,4,5,6,7)\n",
      "enter index: -3\n",
      "(1, 2, 3, 4, 6, 7)\n"
     ]
    }
   ],
   "source": [
    "a=(1,2,3,4,5,6,7)\n",
    "print(\"a=(1,2,3,4,5,6,7)\")\n",
    "b=list(a)\n",
    "ind=int(input(\"enter index: \"))\n",
    "b.pop(ind)\n",
    "print(tuple(b))"
   ]
  },
  {
   "cell_type": "markdown",
   "id": "d575edf9",
   "metadata": {},
   "source": []
  }
 ],
 "metadata": {
  "kernelspec": {
   "display_name": "Python 3 (ipykernel)",
   "language": "python",
   "name": "python3"
  },
  "language_info": {
   "codemirror_mode": {
    "name": "ipython",
    "version": 3
   },
   "file_extension": ".py",
   "mimetype": "text/x-python",
   "name": "python",
   "nbconvert_exporter": "python",
   "pygments_lexer": "ipython3",
   "version": "3.9.12"
  }
 },
 "nbformat": 4,
 "nbformat_minor": 5
}
