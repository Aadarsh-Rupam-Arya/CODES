{
 "cells": [
  {
   "cell_type": "markdown",
   "id": "a9a1d634",
   "metadata": {},
   "source": [
    "# dictonaries"
   ]
  },
  {
   "cell_type": "code",
   "execution_count": null,
   "id": "2be6313e",
   "metadata": {},
   "outputs": [],
   "source": [
    "# # dictonaty={\n",
    "#     key:value,key1:value1,key2:value2\n",
    "# }"
   ]
  },
  {
   "cell_type": "code",
   "execution_count": 13,
   "id": "f0efa30f",
   "metadata": {},
   "outputs": [
    {
     "name": "stdout",
     "output_type": "stream",
     "text": [
      "{'jan': 1, 'feb': 2, 'march': 3}\n",
      "<class 'dict'>\n",
      "\n"
     ]
    }
   ],
   "source": [
    "\n",
    "\n",
    "month={\n",
    "    \"jan\":1, \"feb\":2, \"march\":3\n",
    "}\n",
    "print(month)\n",
    "print(type(month))\n",
    "print()"
   ]
  },
  {
   "cell_type": "code",
   "execution_count": 22,
   "id": "8cec3204",
   "metadata": {},
   "outputs": [
    {
     "name": "stdout",
     "output_type": "stream",
     "text": [
      "{'one': 1, 'two': 2, 'three': 3}\n"
     ]
    }
   ],
   "source": [
    "#convert list or tuples to dict\n",
    "#using { dict } func we can do so\n",
    "\n",
    "d=dict([(\"one\",1), (\"two\",2),(\"three\",3)])\n",
    "print(d)"
   ]
  },
  {
   "cell_type": "code",
   "execution_count": null,
   "id": "32769ac9",
   "metadata": {},
   "outputs": [],
   "source": [
    "#key should be unique"
   ]
  },
  {
   "cell_type": "code",
   "execution_count": 15,
   "id": "4b8b96a7",
   "metadata": {},
   "outputs": [],
   "source": [
    "#Operations"
   ]
  },
  {
   "cell_type": "code",
   "execution_count": 24,
   "id": "ed6efcae",
   "metadata": {},
   "outputs": [
    {
     "name": "stdout",
     "output_type": "stream",
     "text": [
      "2\n"
     ]
    }
   ],
   "source": [
    "month={\"jan\":1,\"feb\":2,\"mar\":3,\"april\":4,\"may\":5}\n",
    "print(month[\"feb\"])"
   ]
  },
  {
   "cell_type": "code",
   "execution_count": 18,
   "id": "bcb08a93",
   "metadata": {},
   "outputs": [
    {
     "name": "stdout",
     "output_type": "stream",
     "text": [
      "1\n"
     ]
    }
   ],
   "source": [
    "month={\"jan\":1,\"feb\":2,\"mar\":3,\"april\":4,\"may\":5}\n",
    "print(month.get(\"jan\"))\n"
   ]
  },
  {
   "cell_type": "code",
   "execution_count": 33,
   "id": "c82f1c0a",
   "metadata": {},
   "outputs": [
    {
     "name": "stdout",
     "output_type": "stream",
     "text": [
      "{'sahil': 'choda', 'eklavya': 'chutiyachoda', 'ajay': 'bokachoda', 'aadarsh': 'chutadchoda'}\n",
      "['aadarsh', 'ajay', 'eklavya', 'sahil']\n",
      "[('aadarsh', 'chutadchoda'), ('ajay', 'bokachoda'), ('eklavya', 'chutiyachoda'), ('sahil', 'choda')]\n"
     ]
    }
   ],
   "source": [
    "a=[\"sahil\",\"eklavya\",\"ajay\",\"aadarsh\"]\n",
    "b=[\"choda\",\"chutiyachoda\",\"bokachoda\",\"chutadchoda\"]\n",
    "\n",
    "mydict=dict(zip(a,b))\n",
    "print(mydict)\n",
    "\n",
    "print(sorted(mydict))\n",
    "print(sorted(mydict.items()))"
   ]
  },
  {
   "cell_type": "code",
   "execution_count": 40,
   "id": "59c0f976",
   "metadata": {},
   "outputs": [
    {
     "name": "stdout",
     "output_type": "stream",
     "text": [
      "True\n",
      "True\n"
     ]
    }
   ],
   "source": [
    "month={\"jan\":1,\"feb\":2,\"mar\":3,\"april\":4,\"may\":5}\n",
    "month1={\"\":1,\"feb\":2,\"mar\":3,\"april\":4,\"may\":5}\n",
    "print(all(month))\n",
    "print(any(month1))"
   ]
  },
  {
   "cell_type": "code",
   "execution_count": null,
   "id": "d24e16ed",
   "metadata": {},
   "outputs": [],
   "source": []
  },
  {
   "cell_type": "code",
   "execution_count": null,
   "id": "bce27e88",
   "metadata": {},
   "outputs": [],
   "source": [
    "# write a prog to change dict vkeys into values amd vice versa and print the result in the formm of list of tuples "
   ]
  },
  {
   "cell_type": "code",
   "execution_count": 14,
   "id": "ebadd06e",
   "metadata": {},
   "outputs": [
    {
     "name": "stdout",
     "output_type": "stream",
     "text": [
      "<built-in method get of dict object at 0x00000167915C3580>\n"
     ]
    }
   ],
   "source": [
    "m={\"jan\":1,\"feb\":2,\"mar\":3,\"april\":4,\"may\":5}\n",
    "\n"
   ]
  },
  {
   "cell_type": "code",
   "execution_count": 31,
   "id": "95fbcd1e",
   "metadata": {},
   "outputs": [
    {
     "name": "stdout",
     "output_type": "stream",
     "text": [
      "{1: 'one', 2: 'two', 3: 'three'}\n",
      "{'one': 1, 'two': 2, 'three': 3}\n",
      "dict_items([('one', 1), ('two', 2), ('three', 3)])\n"
     ]
    }
   ],
   "source": [
    "a=[1,2,3]\n",
    "b=[\"one\",\"two\",\"three\"]\n",
    "print(dict(zip(a,b)))\n",
    "k=((dict(zip(b,a))))\n",
    "print((k))\n",
    "\n",
    "c=((k.items()))\n",
    "print(c)"
   ]
  },
  {
   "cell_type": "code",
   "execution_count": null,
   "id": "5c83a627",
   "metadata": {},
   "outputs": [],
   "source": []
  },
  {
   "cell_type": "code",
   "execution_count": 76,
   "id": "a2f3468f",
   "metadata": {
    "scrolled": true
   },
   "outputs": [
    {
     "name": "stdout",
     "output_type": "stream",
     "text": [
      "(1, 1)(2, 2)(3, 3)(4, 2)(4, 2)(3, 3)(2, 2)(5, 1)(3, 3)(6, 1)(7, 1)"
     ]
    }
   ],
   "source": [
    "a=1,2,3,4,4,3,2,5,3,6,7\n",
    "for i in a :\n",
    "    b=0\n",
    "    for j in a:\n",
    "        if j==i:\n",
    "            b+=1\n",
    "    a1=(i , b)\n",
    "    print(a1,end=\"\")\n",
    "\n"
   ]
  },
  {
   "cell_type": "code",
   "execution_count": 2,
   "id": "a341f23d",
   "metadata": {},
   "outputs": [
    {
     "name": "stdout",
     "output_type": "stream",
     "text": [
      "324\n"
     ]
    },
    {
     "ename": "AttributeError",
     "evalue": "'list' object has no attribute 'item'",
     "output_type": "error",
     "traceback": [
      "\u001b[1;31m---------------------------------------------------------------------------\u001b[0m",
      "\u001b[1;31mAttributeError\u001b[0m                            Traceback (most recent call last)",
      "Input \u001b[1;32mIn [2]\u001b[0m, in \u001b[0;36m<cell line: 8>\u001b[1;34m()\u001b[0m\n\u001b[0;32m      6\u001b[0m     value\u001b[38;5;241m=\u001b[39md1\u001b[38;5;241m.\u001b[39mcount(d1[i])\n\u001b[0;32m      7\u001b[0m     d111[d[i]]\u001b[38;5;241m=\u001b[39mvalue\n\u001b[1;32m----> 8\u001b[0m \u001b[38;5;28mprint\u001b[39m(\u001b[38;5;28msorted\u001b[39m(\u001b[43md1\u001b[49m\u001b[38;5;241;43m.\u001b[39;49m\u001b[43mitem\u001b[49m()))\n",
      "\u001b[1;31mAttributeError\u001b[0m: 'list' object has no attribute 'item'"
     ]
    }
   ],
   "source": [
    "d=input()\n",
    "d1=d.split(\",\")\n",
    "d111={}\n",
    "\n",
    "for i in range(0,len(d1)):\n",
    "    value=d1.count(d1[i])\n",
    "    d111[d[i]]=value\n",
    "print(sorted(d1.item()))"
   ]
  },
  {
   "cell_type": "code",
   "execution_count": null,
   "id": "136b0e8b",
   "metadata": {},
   "outputs": [],
   "source": []
  },
  {
   "cell_type": "code",
   "execution_count": 4,
   "id": "5b133e38",
   "metadata": {},
   "outputs": [],
   "source": [
    "# i am going to "
   ]
  },
  {
   "cell_type": "code",
   "execution_count": 6,
   "id": "848bfa45",
   "metadata": {},
   "outputs": [
    {
     "name": "stdout",
     "output_type": "stream",
     "text": [
      "{0: 10, 1: 20, 2: 30}\n"
     ]
    }
   ],
   "source": [
    "#wdictonary comprehension\n",
    "\n",
    "l=[10,20,30]\n",
    "print({i:j for i,j in enumerate(l)}) "
   ]
  },
  {
   "cell_type": "code",
   "execution_count": 12,
   "id": "8226ef12",
   "metadata": {},
   "outputs": [
    {
     "name": "stdout",
     "output_type": "stream",
     "text": [
      "{1: 1, 2: 4, 3: 9, 4: 16, 5: 25, 6: 36, 7: 49, 8: 64, 9: 81, 10: 100}\n"
     ]
    }
   ],
   "source": [
    "print({i:i**2 for i in range(1,11)})"
   ]
  },
  {
   "cell_type": "code",
   "execution_count": 20,
   "id": "b061f01c",
   "metadata": {},
   "outputs": [
    {
     "data": {
      "text/plain": [
       "{'c': 'python',\n",
       " 'o': 'python',\n",
       " 'd': 'python',\n",
       " 'e': 'python',\n",
       " 't': 'python',\n",
       " 'a': 'python',\n",
       " 'n': 'python',\n",
       " 'r': 'python'}"
      ]
     },
     "execution_count": 20,
     "metadata": {},
     "output_type": "execute_result"
    }
   ],
   "source": [
    "{k:\"python\" for k in \"codetantra\"}"
   ]
  },
  {
   "cell_type": "code",
   "execution_count": null,
   "id": "a3f12aa3",
   "metadata": {},
   "outputs": [],
   "source": []
  },
  {
   "cell_type": "code",
   "execution_count": null,
   "id": "3683b66f",
   "metadata": {},
   "outputs": [],
   "source": []
  }
 ],
 "metadata": {
  "kernelspec": {
   "display_name": "Python 3 (ipykernel)",
   "language": "python",
   "name": "python3"
  },
  "language_info": {
   "codemirror_mode": {
    "name": "ipython",
    "version": 3
   },
   "file_extension": ".py",
   "mimetype": "text/x-python",
   "name": "python",
   "nbconvert_exporter": "python",
   "pygments_lexer": "ipython3",
   "version": "3.9.12"
  }
 },
 "nbformat": 4,
 "nbformat_minor": 5
}
