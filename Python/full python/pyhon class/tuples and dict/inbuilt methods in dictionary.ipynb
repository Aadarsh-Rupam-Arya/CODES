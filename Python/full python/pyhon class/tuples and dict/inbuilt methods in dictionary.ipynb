{
 "cells": [
  {
   "cell_type": "code",
   "execution_count": 32,
   "id": "041578b0",
   "metadata": {},
   "outputs": [
    {
     "name": "stdout",
     "output_type": "stream",
     "text": [
      "10\n",
      "{1: 1, 2: 4, 3: 9, 4: 16, 5: 25, 6: 36, 7: 49, 8: 64, 9: 81, 10: 100}\n",
      "None\n"
     ]
    }
   ],
   "source": [
    "a={1: 1, 2: 4, 3: 9, 4: 16, 5: 25, 6: 36, 7: 49, 8: 64, 9: 81, 10: 100}\n",
    "\n",
    "#length of a dict\n",
    "print(len(a))\n",
    "\n",
    "#copy fnc\n",
    "print(a.copy())\n",
    "\n",
    "#clear fnc - it clears the dict\n",
    "print(a.clear())"
   ]
  },
  {
   "cell_type": "code",
   "execution_count": 29,
   "id": "6340a6b0",
   "metadata": {},
   "outputs": [
    {
     "name": "stdout",
     "output_type": "stream",
     "text": [
      "5\n",
      "dict_keys(['c', 'o', 'd', 'e', 't'])\n",
      "dict_values(['python', 'python', 'python', 'python', 'python'])\n",
      "dict_items([('c', 'python'), ('o', 'python'), ('d', 'python'), ('e', 'python'), ('t', 'python')])\n"
     ]
    }
   ],
   "source": [
    "b={'c': 'python',\n",
    " 'o': 'python',\n",
    " 'd': 'python',\n",
    " 'e': 'python',\n",
    " 't': 'python',}\n",
    "print(len(b))\n",
    "\n",
    "print(b.keys())     #for the keys of dict \n",
    "print(b.values())   #for the values of dicrt\n",
    "print(b.items())    #for the all items of the dict"
   ]
  },
  {
   "cell_type": "code",
   "execution_count": null,
   "id": "de32fe1c",
   "metadata": {},
   "outputs": [],
   "source": []
  },
  {
   "cell_type": "code",
   "execution_count": 37,
   "id": "2ec6aad9",
   "metadata": {},
   "outputs": [
    {
     "name": "stdout",
     "output_type": "stream",
     "text": [
      "green\n",
      "{3: 'green'}\n"
     ]
    }
   ],
   "source": [
    "# print(a.setdefault(3,'green'))\n",
    "# print(a)"
   ]
  },
  {
   "cell_type": "code",
   "execution_count": 41,
   "id": "11708e79",
   "metadata": {},
   "outputs": [
    {
     "name": "stdout",
     "output_type": "stream",
     "text": [
      "green\n",
      "{1: 'one', 2: 'two', 3: 'three', '3': 'green'}\n"
     ]
    }
   ],
   "source": [
    "d={1:\"one\",2:\"two\",3:\"three\"}\n",
    " \n",
    "print(d.setdefault(\"3\",\"green\"))\n",
    "print(d)"
   ]
  },
  {
   "cell_type": "code",
   "execution_count": null,
   "id": "ec3739d9",
   "metadata": {},
   "outputs": [],
   "source": []
  },
  {
   "cell_type": "code",
   "execution_count": 51,
   "id": "475b1175",
   "metadata": {},
   "outputs": [
    {
     "name": "stdout",
     "output_type": "stream",
     "text": [
      "{1: 'one', 2: 'two', 3: 'three', 4: 'four'}\n"
     ]
    }
   ],
   "source": [
    "k={1:\"one\",2:\"two\",3:\"three\"}\n",
    "e={4:\"four\"}\n",
    "k.update(e)\n",
    "print(k)"
   ]
  },
  {
   "cell_type": "code",
   "execution_count": null,
   "id": "b60ea6b7",
   "metadata": {},
   "outputs": [],
   "source": []
  }
 ],
 "metadata": {
  "kernelspec": {
   "display_name": "Python 3 (ipykernel)",
   "language": "python",
   "name": "python3"
  },
  "language_info": {
   "codemirror_mode": {
    "name": "ipython",
    "version": 3
   },
   "file_extension": ".py",
   "mimetype": "text/x-python",
   "name": "python",
   "nbconvert_exporter": "python",
   "pygments_lexer": "ipython3",
   "version": "3.9.12"
  }
 },
 "nbformat": 4,
 "nbformat_minor": 5
}
