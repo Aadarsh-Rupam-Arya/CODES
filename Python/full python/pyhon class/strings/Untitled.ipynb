{
 "cells": [
  {
   "cell_type": "code",
   "execution_count": 4,
   "id": "613448d9",
   "metadata": {},
   "outputs": [
    {
     "name": "stdout",
     "output_type": "stream",
     "text": [
      "chutiya\n",
      "chuchuchu\n"
     ]
    }
   ],
   "source": [
    "a=input()\n",
    "if len(a)>=3:\n",
    "    print(a[0:3]*3)\n",
    "else:\n",
    "    print(a)"
   ]
  },
  {
   "cell_type": "code",
   "execution_count": 12,
   "id": "f915eede",
   "metadata": {},
   "outputs": [
    {
     "name": "stdout",
     "output_type": "stream",
     "text": [
      "active\n",
      "ectiva\n"
     ]
    }
   ],
   "source": [
    "a=input()\n",
    "print(a[-1]+a[1:-1]+a[0])"
   ]
  },
  {
   "cell_type": "code",
   "execution_count": 14,
   "id": "1b26cc21",
   "metadata": {},
   "outputs": [
    {
     "name": "stdout",
     "output_type": "stream",
     "text": [
      "kkekey\n"
     ]
    }
   ],
   "source": [
    "a=\"key\"\n",
    "b=a[0]+a[0:2]+a[0:3]\n",
    "print(b)"
   ]
  },
  {
   "cell_type": "code",
   "execution_count": 18,
   "id": "60ccfad8",
   "metadata": {},
   "outputs": [
    {
     "name": "stdout",
     "output_type": "stream",
     "text": [
      "1\n",
      "2\n",
      "3\n",
      "4\n",
      "5\n",
      "6\n"
     ]
    }
   ],
   "source": [
    "a=\"python\"\n",
    "b=(len(a))\n",
    "i=-1\n",
    "for i in range(0,b):\n",
    "    i=i+1\n",
    "    print(i)\n",
    "    \n",
    "c=a[]"
   ]
  },
  {
   "cell_type": "code",
   "execution_count": null,
   "id": "54159a1a",
   "metadata": {},
   "outputs": [],
   "source": []
  }
 ],
 "metadata": {
  "kernelspec": {
   "display_name": "Python 3 (ipykernel)",
   "language": "python",
   "name": "python3"
  },
  "language_info": {
   "codemirror_mode": {
    "name": "ipython",
    "version": 3
   },
   "file_extension": ".py",
   "mimetype": "text/x-python",
   "name": "python",
   "nbconvert_exporter": "python",
   "pygments_lexer": "ipython3",
   "version": "3.9.12"
  }
 },
 "nbformat": 4,
 "nbformat_minor": 5
}
