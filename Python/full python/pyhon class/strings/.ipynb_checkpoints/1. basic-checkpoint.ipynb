{
 "cells": [
  {
   "cell_type": "code",
   "execution_count": 2,
   "id": "45a0af21",
   "metadata": {},
   "outputs": [
    {
     "name": "stdout",
     "output_type": "stream",
     "text": [
      "apple\n"
     ]
    }
   ],
   "source": [
    "##they are inside the single or double quotation\n",
    "a=\"apple\"\n",
    "print(a)"
   ]
  },
  {
   "cell_type": "code",
   "execution_count": 7,
   "id": "095e8af6",
   "metadata": {},
   "outputs": [
    {
     "name": "stdout",
     "output_type": "stream",
     "text": [
      "I Love India \n"
     ]
    }
   ],
   "source": [
    "##concatenation(+)\n",
    "a=\"I \"\n",
    "b=\"Love \"\n",
    "c=\"India \"\n",
    "print(a+b+c)\n"
   ]
  },
  {
   "cell_type": "code",
   "execution_count": 9,
   "id": "accfcd42",
   "metadata": {},
   "outputs": [
    {
     "name": "stdout",
     "output_type": "stream",
     "text": [
      "IndiaIndia\n",
      "IndiaIndiaIndiaIndiaIndia\n"
     ]
    }
   ],
   "source": [
    "#repetition(*)\n",
    "a=\"India\"\n",
    "print(a*2)\n",
    "print(a*5)"
   ]
  },
  {
   "cell_type": "code",
   "execution_count": 11,
   "id": "994218cb",
   "metadata": {},
   "outputs": [
    {
     "name": "stdout",
     "output_type": "stream",
     "text": [
      "True\n",
      "False\n"
     ]
    }
   ],
   "source": [
    "# membership(in, not in)\n",
    "a=\"I Love India\"\n",
    "print(\"Love\" in a)\n",
    "print(\"good\" in a)"
   ]
  },
  {
   "cell_type": "code",
   "execution_count": 14,
   "id": "584ba279",
   "metadata": {},
   "outputs": [
    {
     "name": "stdout",
     "output_type": "stream",
     "text": [
      "a\n",
      "s\n"
     ]
    }
   ],
   "source": [
    "# indexing\n",
    "a=\"Aadarsh\"\n",
    "print(a[1])\n",
    "print(a[5])"
   ]
  },
  {
   "cell_type": "code",
   "execution_count": 26,
   "id": "416ad4db",
   "metadata": {},
   "outputs": [
    {
     "name": "stdout",
     "output_type": "stream",
     "text": [
      "Aadarsh is a go\n",
      "Aadarsh is a go\n",
      "rsh is a go\n",
      "rsh is a good boy\n",
      "Aadarsh is a good boy\n",
      "Adrhi  odby\n"
     ]
    }
   ],
   "source": [
    "# index slicing\n",
    "a=\"Aadarsh is a good boy\"\n",
    "print(a[0:15])\n",
    "print(a[:15]) #default start with 0 index\n",
    "print(a[4:15])\n",
    "print(a[4:]) #default end with last index\n",
    "\n",
    "print(a[:]) #complete string will be print\n",
    "\n",
    "\n",
    "#slicing with steps or skipping the terms\n",
    "\n",
    "print(a[::2])\n",
    "\n",
    "\n",
    "\n"
   ]
  },
  {
   "cell_type": "code",
   "execution_count": 27,
   "id": "0984909f",
   "metadata": {},
   "outputs": [
    {
     "ename": "TypeError",
     "evalue": "'str' object does not support item assignment",
     "output_type": "error",
     "traceback": [
      "\u001b[1;31m---------------------------------------------------------------------------\u001b[0m",
      "\u001b[1;31mTypeError\u001b[0m                                 Traceback (most recent call last)",
      "Input \u001b[1;32mIn [27]\u001b[0m, in \u001b[0;36m<cell line: 3>\u001b[1;34m()\u001b[0m\n\u001b[0;32m      1\u001b[0m \u001b[38;5;66;03m#strings are immutable\u001b[39;00m\n\u001b[0;32m      2\u001b[0m a\u001b[38;5;241m=\u001b[39m\u001b[38;5;124m\"\u001b[39m\u001b[38;5;124mAadarsh\u001b[39m\u001b[38;5;124m\"\u001b[39m\n\u001b[1;32m----> 3\u001b[0m a[\u001b[38;5;241m3\u001b[39m]\u001b[38;5;241m=\u001b[39m\u001b[38;5;124m\"\u001b[39m\u001b[38;5;124mj\u001b[39m\u001b[38;5;124m\"\u001b[39m\n\u001b[0;32m      4\u001b[0m \u001b[38;5;28mprint\u001b[39m(a)\n",
      "\u001b[1;31mTypeError\u001b[0m: 'str' object does not support item assignment"
     ]
    }
   ],
   "source": [
    "#strings are immutable\n",
    "a=\"Aadarsh\"\n",
    "a[3]=\"j\"\n",
    "print(a)"
   ]
  },
  {
   "cell_type": "code",
   "execution_count": null,
   "id": "2bc981d2",
   "metadata": {},
   "outputs": [],
   "source": []
  }
 ],
 "metadata": {
  "kernelspec": {
   "display_name": "Python 3 (ipykernel)",
   "language": "python",
   "name": "python3"
  },
  "language_info": {
   "codemirror_mode": {
    "name": "ipython",
    "version": 3
   },
   "file_extension": ".py",
   "mimetype": "text/x-python",
   "name": "python",
   "nbconvert_exporter": "python",
   "pygments_lexer": "ipython3",
   "version": "3.9.12"
  }
 },
 "nbformat": 4,
 "nbformat_minor": 5
}
