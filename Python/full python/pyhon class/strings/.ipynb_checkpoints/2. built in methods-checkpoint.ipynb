{
 "cells": [
  {
   "cell_type": "code",
   "execution_count": 1,
   "id": "e1b4731a",
   "metadata": {},
   "outputs": [],
   "source": [
    "# built in methods"
   ]
  },
  {
   "cell_type": "code",
   "execution_count": 20,
   "id": "c271a14a",
   "metadata": {},
   "outputs": [
    {
     "name": "stdout",
     "output_type": "stream",
     "text": [
      "HELLO MY NAME IS AADARSH\n",
      "hello my name is aadarsh\n",
      "Hello My Name Is Aadarsh\n",
      "Hello my name is aadarsh\n",
      "False\n",
      "False\n",
      "False\n",
      "False\n",
      "False\n",
      "False\n",
      "False\n"
     ]
    }
   ],
   "source": [
    "a=\"Hello my name is aadarsh\"\n",
    "print(a.upper())\n",
    "\n",
    "print(a.lower())\n",
    "\n",
    "print(a.title())\n",
    "\n",
    "print(a.capitalize())\n",
    "\n",
    "print(a.isupper())\n",
    "\n",
    "print(a.islower())\n",
    "\n",
    "print(a.istitle())\n",
    "\n",
    "print(a.isspace())\n",
    "\n",
    "print(a.isdigit())\n",
    "\n",
    "print(a.isalpha())\n",
    "\n",
    "print(a.isalnum())"
   ]
  },
  {
   "cell_type": "code",
   "execution_count": 27,
   "id": "c8004551",
   "metadata": {},
   "outputs": [
    {
     "name": "stdout",
     "output_type": "stream",
     "text": [
      "False\n",
      "True\n",
      "True\n"
     ]
    }
   ],
   "source": [
    "c=\"string\"\n",
    "print(c.isdigit())\n",
    "\n",
    "print(c.isalpha())\n",
    "\n",
    "print(c.isalnum())"
   ]
  },
  {
   "cell_type": "code",
   "execution_count": 41,
   "id": "b4255355",
   "metadata": {},
   "outputs": [
    {
     "name": "stdout",
     "output_type": "stream",
     "text": [
      "['Welcome', 'to', 'python']\n"
     ]
    }
   ],
   "source": [
    "# (imp)  to create a list of a string elements\n",
    "c=\"Welcome to python\"\n",
    "print(c.split())"
   ]
  },
  {
   "cell_type": "code",
   "execution_count": 43,
   "id": "c7adf84f",
   "metadata": {},
   "outputs": [
    {
     "name": "stdout",
     "output_type": "stream",
     "text": [
      "['Wel', ' to python']\n",
      "['Welcome to py', 'on']\n"
     ]
    }
   ],
   "source": [
    "c=\"Welcome to python\"\n",
    "print(c.split(\"come\"))\n",
    "print(c.split(\"th\"))"
   ]
  },
  {
   "cell_type": "code",
   "execution_count": 42,
   "id": "6c8cd286",
   "metadata": {},
   "outputs": [
    {
     "name": "stdout",
     "output_type": "stream",
     "text": [
      "Welcome to python\n",
      "Welcome + to + python\n",
      "Welcome chutiya to chutiya python\n"
     ]
    }
   ],
   "source": [
    "#(imp) to join the list in form of a string\n",
    "d=['Welcome', 'to', 'python']\n",
    "e=\" \"\n",
    "print(e.join(d))\n",
    "\n",
    "k=\" + \"\n",
    "print(k.join(d))\n",
    "print(\" chutiya \".join(d))\n"
   ]
  },
  {
   "cell_type": "code",
   "execution_count": 47,
   "id": "5b05f359",
   "metadata": {},
   "outputs": [
    {
     "name": "stdout",
     "output_type": "stream",
     "text": [
      "['aadarsh']\n"
     ]
    }
   ],
   "source": [
    "a=\"aadarsh\"\n",
    "print(a.split())"
   ]
  },
  {
   "cell_type": "code",
   "execution_count": 48,
   "id": "08df0bae",
   "metadata": {},
   "outputs": [],
   "source": [
    "#more"
   ]
  },
  {
   "cell_type": "code",
   "execution_count": 63,
   "id": "3d3164da",
   "metadata": {},
   "outputs": [
    {
     "name": "stdout",
     "output_type": "stream",
     "text": [
      "HELLO\n",
      "rAJUU is Chutiya\n"
     ]
    }
   ],
   "source": [
    "a=\"hello\"\n",
    "b=\"Rajuu IS cHUTIYA\"\n",
    "print(a.swapcase())\n",
    "print(b.swapcase())"
   ]
  },
  {
   "cell_type": "code",
   "execution_count": 64,
   "id": "0550af1e",
   "metadata": {},
   "outputs": [
    {
     "name": "stdout",
     "output_type": "stream",
     "text": [
      "haa bsdk, tu hi! baut bada chutiya hai\n"
     ]
    }
   ],
   "source": [
    "c=\"tu baut bada chutiya hai\"\n",
    "print(c.replace(\"tu\", \"haa bsdk, tu hi!\"))"
   ]
  },
  {
   "cell_type": "code",
   "execution_count": 68,
   "id": "74e2903b",
   "metadata": {},
   "outputs": [
    {
     "name": "stdout",
     "output_type": "stream",
     "text": [
      "3\n"
     ]
    }
   ],
   "source": [
    "c=\"tu baut baut baut bada chutiya hai\"\n",
    "print(c.count(\"baut\"))"
   ]
  },
  {
   "cell_type": "code",
   "execution_count": 75,
   "id": "8a0d4a7c",
   "metadata": {},
   "outputs": [
    {
     "name": "stdout",
     "output_type": "stream",
     "text": [
      "True\n",
      "False\n"
     ]
    }
   ],
   "source": [
    "c=\"tu baut bada chutiya hai\"\n",
    "print(c.startswith(\"t\"))\n",
    "print(c.startswith(\"b\"))"
   ]
  },
  {
   "cell_type": "code",
   "execution_count": 87,
   "id": "c4ac3657",
   "metadata": {},
   "outputs": [
    {
     "name": "stdout",
     "output_type": "stream",
     "text": [
      "@@@hell@@@\n",
      "____Aadarsh____\n"
     ]
    }
   ],
   "source": [
    "#center fnc\n",
    "\n",
    "a=\"hell\"\n",
    "print(a.center(10,\"@\"))\n",
    "b=\"Aadarsh\"\n",
    "print(b.center(15,\"_\"))"
   ]
  },
  {
   "cell_type": "code",
   "execution_count": 92,
   "id": "d7f8291d",
   "metadata": {},
   "outputs": [
    {
     "name": "stdout",
     "output_type": "stream",
     "text": [
      "hello\n",
      "Python\n",
      "\n",
      "Aadarsh\n",
      "\tRupam\n",
      "\t\tArya\tis a good boy\n"
     ]
    }
   ],
   "source": [
    "#escape sequence   (\\n for new line)(\\t for tab space)\n",
    "a=\"hello\\nPython\\n\"\n",
    "print(a)\n",
    "b=\"Aadarsh\\n\\tRupam\\n\\t\\tArya\\tis a good boy\"\n",
    "print(b)"
   ]
  },
  {
   "cell_type": "code",
   "execution_count": 103,
   "id": "d75abb2b",
   "metadata": {},
   "outputs": [
    {
     "name": "stdout",
     "output_type": "stream",
     "text": [
      "hello\"python\n",
      "\n",
      "It's \"Aadarsh\" arya's book\n"
     ]
    }
   ],
   "source": [
    "#for getting an apaostrophy comaa with a string of same apostrophy comma\n",
    "a=\"hello\\\"python\\n\"\n",
    "print(a)\n",
    "b='It\\'s \\\"Aadarsh\\\" arya\\'s book'\n",
    "print(b)\n",
    "\n"
   ]
  },
  {
   "cell_type": "code",
   "execution_count": 1,
   "id": "2cbad929",
   "metadata": {},
   "outputs": [
    {
     "name": "stdout",
     "output_type": "stream",
     "text": [
      "ello beautifu\n"
     ]
    }
   ],
   "source": [
    "a=\"hello beautiful\"\n",
    "print(a[1:-1])"
   ]
  },
  {
   "cell_type": "code",
   "execution_count": null,
   "id": "ec4a7bc0",
   "metadata": {},
   "outputs": [],
   "source": []
  },
  {
   "cell_type": "code",
   "execution_count": null,
   "id": "d1df5676",
   "metadata": {},
   "outputs": [],
   "source": [
    "a=input()\n",
    "if len(a)>=3:\n",
    "    print(a[0:4]*3)\n",
    "else:\n",
    "    print(a)"
   ]
  },
  {
   "cell_type": "code",
   "execution_count": null,
   "id": "ed4ca181",
   "metadata": {},
   "outputs": [],
   "source": []
  }
 ],
 "metadata": {
  "kernelspec": {
   "display_name": "Python 3 (ipykernel)",
   "language": "python",
   "name": "python3"
  },
  "language_info": {
   "codemirror_mode": {
    "name": "ipython",
    "version": 3
   },
   "file_extension": ".py",
   "mimetype": "text/x-python",
   "name": "python",
   "nbconvert_exporter": "python",
   "pygments_lexer": "ipython3",
   "version": "3.9.12"
  }
 },
 "nbformat": 4,
 "nbformat_minor": 5
}
