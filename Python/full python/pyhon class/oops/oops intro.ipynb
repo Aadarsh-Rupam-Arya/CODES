{
 "cells": [
  {
   "cell_type": "markdown",
   "id": "79bf764f",
   "metadata": {},
   "source": [
    "# Oops"
   ]
  },
  {
   "cell_type": "code",
   "execution_count": null,
   "id": "28994a3e",
   "metadata": {},
   "outputs": [],
   "source": [
    "\n",
    "Oops\n",
    "•\tObjects\n",
    "•\tClasses\n",
    "•\tInheritance\n",
    "•\tAbstraction\n",
    "•\tPolymorphism\n",
    "\n",
    "1\t.  Classes and objects\n",
    "\n",
    "Syntax:-\n",
    "\n",
    "class classname:\n",
    "\tclass variable\n",
    "def__init__(self,var,var2,------, var n):\n",
    "\tself.var1=var1\n",
    "\tself,var2=var2\n",
    "\t-----------------------\n",
    "\tself.var n=var n\n",
    "def fun(self):\n",
    "\t----------------------\n",
    "\t----------------------\n",
    "\n",
    "Objectname=classname()"
   ]
  },
  {
   "cell_type": "code",
   "execution_count": null,
   "id": "b87f1b85",
   "metadata": {},
   "outputs": [],
   "source": []
  },
  {
   "cell_type": "code",
   "execution_count": null,
   "id": "af1b6e21",
   "metadata": {},
   "outputs": [],
   "source": [
    "##exampls\n",
    "\n",
    "class Dog:\n",
    "    att1=\"mammal\"\n",
    "    def __init__(self,name):\n",
    "        self.name=name\n",
    "        print(name)\n",
    "    def walk(self):\n",
    "        print(\"my dog can walk\")\n",
    "Tommy= Dog(\"tommy\")\n",
    "Rodder= Dog(\"rodder\")\n",
    "\n",
    "Tommy.walk()\n"
   ]
  },
  {
   "cell_type": "code",
   "execution_count": null,
   "id": "cb5367f8",
   "metadata": {},
   "outputs": [],
   "source": [
    "class Person:\n",
    "    def __init__(self, name, age):\n",
    "        self.name = name\n",
    "        self.age = age\n",
    "   \n",
    "\n",
    "\n",
    "\n",
    "p1 = Person(\"John\", 36)\n",
    "\n",
    "print(p1.name)\n",
    "print(p1.age)"
   ]
  },
  {
   "cell_type": "code",
   "execution_count": null,
   "id": "75b200f4",
   "metadata": {},
   "outputs": [],
   "source": [
    "#create a class name stu inside the class there are no variableaes and methods of the classs\n",
    "# create two obj of the class stu1 and stu2 and  initilise the name and age and grad level for both the obj\n",
    "# outside the class and print the name , age , and grad level of both the obj \n",
    "\n",
    "\n",
    "class student:\n",
    "    def __init__(self,name,age,grad):\n",
    "        self.name = name\n",
    "        self.age = age\n",
    "        self.grad = grad\n",
    "\n",
    "stu1 = student(\"john\",25,\"post grad\")\n",
    "stu2= student(\"raj\",20,\"grad\")\n",
    "\n",
    "print(stu1.name)\n",
    "print(stu1.age)\n",
    "print(stu1.grad)\n",
    "\n",
    "print(\"\\n\")\n",
    "\n",
    "print(stu2.name)\n",
    "print(stu2.age)\n",
    "print(stu2.grad)"
   ]
  },
  {
   "cell_type": "code",
   "execution_count": null,
   "id": "96f801b7",
   "metadata": {},
   "outputs": [],
   "source": [
    "class student:\n",
    "    pass\n",
    "s1=student()\n",
    "s2=student()\n",
    "\n",
    "s1.name=\"A\"\n",
    "s1.age=18\n",
    "s1.grad=\"bba\"\n",
    "\n",
    "s2.name=\"b\"\n",
    "s2.age=23\n",
    "s2.grad=\"Mba\"\n",
    "\n",
    "print(\"Detail of\",s1.name,s1.age,s1.grad)\n",
    "print(\"Detail of\",s2.name,s2.age,s2.grad)"
   ]
  },
  {
   "cell_type": "code",
   "execution_count": null,
   "id": "d2550c0f",
   "metadata": {},
   "outputs": [],
   "source": []
  },
  {
   "cell_type": "code",
   "execution_count": null,
   "id": "8ed4007f",
   "metadata": {},
   "outputs": [],
   "source": [
    "''' create a class name stu insidet the class create init method with self, name , age ,email attributes, and intitilise these attrib\n",
    "inside init metho for class name stu create two obj stu1 and stu 2\n",
    "'''\n",
    "class student:\n",
    "    def __init__(self,name,age,email):\n",
    "        self.name = name\n",
    "        self.age = age\n",
    "        self.email = email\n",
    "\n",
    "stu1 = student(\"john\",25,\"john25@gamil.com\")\n",
    "stu2= student(\"raj\",20,\"raj20@gmail.com\")\n",
    "\n",
    "print(stu1.name)\n",
    "print(stu1.age)\n",
    "print(stu1.email)\n",
    "\n",
    "print(\"\\n\")\n",
    "\n",
    "print(stu2.name)\n",
    "print(stu2.age)\n",
    "print(stu2.email)"
   ]
  },
  {
   "cell_type": "code",
   "execution_count": null,
   "id": "0a2252b8",
   "metadata": {},
   "outputs": [],
   "source": []
  },
  {
   "cell_type": "code",
   "execution_count": 5,
   "id": "05cea96f",
   "metadata": {},
   "outputs": [
    {
     "name": "stdout",
     "output_type": "stream",
     "text": [
      "name: fdsg\n",
      "age: 23\n",
      "dob: fdbgf\n",
      "fdsg23\n",
      "fdbgf\n"
     ]
    }
   ],
   "source": [
    "class stu:\n",
    "    def __init__(self,name,age,dob):\n",
    "        self.name=name\n",
    "        self.age=age\n",
    "        self.dob=dob\n",
    "    \n",
    "s1= stu( (input(\"name: \")), int(input(\"age: \")) , input(\"dob: \")  )\n",
    "# s2= stu(\"phunsuk\",20,\"11/08/2002\")\n",
    "\n",
    "print(s1.name,end=\"\")\n",
    "print(s1.age)\n",
    "print(s1.dob)\n",
    "# print(s2.name)\n",
    "# print(s2.age)\n",
    "# print(s2.dob)\n"
   ]
  },
  {
   "cell_type": "code",
   "execution_count": null,
   "id": "f1b7c385",
   "metadata": {},
   "outputs": [],
   "source": []
  },
  {
   "cell_type": "code",
   "execution_count": null,
   "id": "f41070aa",
   "metadata": {},
   "outputs": [],
   "source": []
  },
  {
   "cell_type": "markdown",
   "id": "91254131",
   "metadata": {},
   "source": [
    "# inheritance"
   ]
  },
  {
   "cell_type": "code",
   "execution_count": null,
   "id": "334c0dcf",
   "metadata": {},
   "outputs": [],
   "source": [
    "'''\n",
    "1. single level\n",
    "2. multiple\n",
    "3. multi-level\n",
    "4.hybrid\n",
    "\n",
    "\n",
    "1.single level\n",
    "\n",
    "        parent class\n",
    "             |\n",
    "        child derived\n",
    "        \n",
    "2.multiple\n",
    "\n",
    "        parent1          parent2\n",
    "            |               |\n",
    "            -----------------\n",
    "                    |\n",
    "                  child \n",
    "                    \n",
    "2. multi level\n",
    "  \n",
    "              grand parent\n",
    "                    |\n",
    "                  parent\n",
    "                    |\n",
    "                  child\n",
    "                    \n",
    "                    \n",
    "'''"
   ]
  },
  {
   "cell_type": "code",
   "execution_count": 2,
   "id": "05a7bd72",
   "metadata": {},
   "outputs": [
    {
     "name": "stdout",
     "output_type": "stream",
     "text": [
      "name: adasdadss\n",
      "age: 2332\n",
      "dob: 124,efs\n",
      "adasdadss\n",
      "2332\n",
      "124,efs\n"
     ]
    }
   ],
   "source": [
    "class stu:\n",
    "    def __init__(self,name,age,dob):\n",
    "        self.name=name\n",
    "        self.age=age\n",
    "        self.dob=dob\n",
    "    \n",
    "s1= stu( (input(\"name: \")), int(input(\"age: \")) , input(\"dob: \")  )\n",
    "# s2= stu(\"phunsuk\",20,\"11/08/2002\")\n",
    "\n",
    "print(s1.name)\n",
    "print(s1.age)\n",
    "print(s1.dob)\n",
    "# print(s2.name)\n",
    "# print(s2.age)\n",
    "# print(s2.dob)"
   ]
  },
  {
   "cell_type": "code",
   "execution_count": null,
   "id": "44220556",
   "metadata": {},
   "outputs": [],
   "source": []
  },
  {
   "cell_type": "code",
   "execution_count": null,
   "id": "34ab9d18",
   "metadata": {},
   "outputs": [],
   "source": []
  },
  {
   "cell_type": "code",
   "execution_count": 2,
   "id": "d9ddc8aa",
   "metadata": {},
   "outputs": [
    {
     "name": "stdout",
     "output_type": "stream",
     "text": [
      "name: rahul\n",
      "eat: flesh\n",
      "do: dance\n"
     ]
    }
   ],
   "source": [
    "class rai(): \n",
    "    def __init__ (self,name,eat):\n",
    "        self.name=name\n",
    "        self.eat=eat    \n",
    "class dog(rai): \n",
    "    def __init__ (self,name,eat,do):\n",
    "        super().__init__ (name,eat)\n",
    "        self.do=do\n",
    "a=dog(\"rahul\",\"flesh\",\"dance\")\n",
    "print(\"name:\",a.name)\n",
    "print(\"eat:\",a.eat)\n",
    "print(\"do:\",a.do)                                  "
   ]
  },
  {
   "cell_type": "code",
   "execution_count": null,
   "id": "5d84cb49",
   "metadata": {},
   "outputs": [],
   "source": []
  },
  {
   "cell_type": "code",
   "execution_count": null,
   "id": "1b7f65a6",
   "metadata": {},
   "outputs": [],
   "source": []
  },
  {
   "cell_type": "code",
   "execution_count": null,
   "id": "1e0c28b5",
   "metadata": {},
   "outputs": [],
   "source": []
  },
  {
   "cell_type": "code",
   "execution_count": null,
   "id": "57506eb7",
   "metadata": {},
   "outputs": [],
   "source": []
  },
  {
   "cell_type": "code",
   "execution_count": null,
   "id": "12c74bdf",
   "metadata": {},
   "outputs": [],
   "source": []
  },
  {
   "cell_type": "code",
   "execution_count": 26,
   "id": "d3466d5e",
   "metadata": {},
   "outputs": [
    {
     "name": "stdout",
     "output_type": "stream",
     "text": [
      "aayam\n",
      "18\n",
      "180000\n",
      "google\n"
     ]
    }
   ],
   "source": [
    "class emp():\n",
    "    def __init__ (self,name,age):\n",
    "        self.name=name\n",
    "        self.age=age\n",
    "class red(emp):\n",
    "    def __init__(self,salary,company):\n",
    "        self.salary=salary\n",
    "        self.company=company\n",
    "\n",
    "        \n",
    "#     def __init__ (self):\n",
    "        \n",
    "a=emp(\"aayam\",18)\n",
    "b=red(180000,\"google\")\n",
    "print(a.name)\n",
    "print(a.age)\n",
    "print(b.salary)\n",
    "print(b.company)"
   ]
  },
  {
   "cell_type": "markdown",
   "id": "bb68471b",
   "metadata": {},
   "source": []
  },
  {
   "cell_type": "code",
   "execution_count": null,
   "id": "88531a68",
   "metadata": {},
   "outputs": [],
   "source": [
    "## access specifiers - public and private\n",
    "\n",
    "__grup \n",
    " by using these 2 underscore we ca make it private\n",
    "    "
   ]
  },
  {
   "cell_type": "code",
   "execution_count": 28,
   "id": "2cae0230",
   "metadata": {},
   "outputs": [
    {
     "name": "stdout",
     "output_type": "stream",
     "text": [
      "stu rep card\n"
     ]
    }
   ],
   "source": [
    "class stu:\n",
    "    __group=\"ECE\"      ## this is made private\n",
    "    __report=\"Fail\"\n",
    "    \n",
    "    def __init__ (self,name,age):\n",
    "        self.name=name\n",
    "        self.age=age\n",
    "    def setDet(self,__group,__report):\n",
    "        self.__group=__group\n",
    "        self.__report=__report\n",
    "    def getdet(self):\n",
    "        print(self.name,self.age,self.__group,self.__report)\n",
    "        \n",
    "print(\"stu rep card\")\n",
    "\n",
    "a.name=\"raj\"\n",
    "a.age=\"into\"\n",
    "\n"
   ]
  },
  {
   "cell_type": "code",
   "execution_count": null,
   "id": "847437e8",
   "metadata": {},
   "outputs": [],
   "source": []
  },
  {
   "cell_type": "code",
   "execution_count": null,
   "id": "04767255",
   "metadata": {},
   "outputs": [],
   "source": []
  },
  {
   "cell_type": "code",
   "execution_count": null,
   "id": "31e9163d",
   "metadata": {},
   "outputs": [],
   "source": []
  },
  {
   "cell_type": "code",
   "execution_count": null,
   "id": "0db7c92f",
   "metadata": {},
   "outputs": [],
   "source": []
  },
  {
   "cell_type": "code",
   "execution_count": 2,
   "id": "b1d82a3d",
   "metadata": {},
   "outputs": [
    {
     "name": "stdout",
     "output_type": "stream",
     "text": [
      "ajay\n",
      "18\n",
      "3104\n"
     ]
    }
   ],
   "source": [
    "class stu:\n",
    "    def __init__(self,name,age,dob):\n",
    "        self.name=name\n",
    "        self.age=age\n",
    "        self.dob=dob\n",
    "\n",
    "k=stu(\"ajay\",18,3104)\n",
    "print(k.name)\n",
    "print(k.age)\n",
    "print(k.dob)"
   ]
  },
  {
   "cell_type": "code",
   "execution_count": 3,
   "id": "c6241d05",
   "metadata": {},
   "outputs": [
    {
     "name": "stdout",
     "output_type": "stream",
     "text": [
      "val1\n"
     ]
    }
   ],
   "source": [
    "d = {2:99,3:999,4:9999,5:99999,6:999999,7:9999999,8:99999999,,9:999999999,,10:9999999999}\n",
    "\n",
    "print(d[])"
   ]
  },
  {
   "cell_type": "code",
   "execution_count": null,
   "id": "957a423f",
   "metadata": {},
   "outputs": [],
   "source": []
  }
 ],
 "metadata": {
  "kernelspec": {
   "display_name": "Python 3 (ipykernel)",
   "language": "python",
   "name": "python3"
  },
  "language_info": {
   "codemirror_mode": {
    "name": "ipython",
    "version": 3
   },
   "file_extension": ".py",
   "mimetype": "text/x-python",
   "name": "python",
   "nbconvert_exporter": "python",
   "pygments_lexer": "ipython3",
   "version": "3.9.12"
  }
 },
 "nbformat": 4,
 "nbformat_minor": 5
}
