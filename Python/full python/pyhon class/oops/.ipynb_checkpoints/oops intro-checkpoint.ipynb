{
 "cells": [
  {
   "cell_type": "markdown",
   "id": "79bf764f",
   "metadata": {},
   "source": [
    "# Oops"
   ]
  },
  {
   "cell_type": "code",
   "execution_count": null,
   "id": "28994a3e",
   "metadata": {},
   "outputs": [],
   "source": [
    "\n",
    "Oops\n",
    "•\tObjects\n",
    "•\tClasses\n",
    "•\tInheritance\n",
    "•\tAbstraction\n",
    "•\tPolymorphism\n",
    "\n",
    "1\t.  Classes and objects\n",
    "\n",
    "Syntax:-\n",
    "\n",
    "class classname:\n",
    "\tclass variable\n",
    "def__unit__(self,var,var2,------, var n):\n",
    "\tself.var1=var1\n",
    "\tself,var2=var2\n",
    "\t-----------------------\n",
    "\tself.var n=var n\n",
    "def fun(self):\n",
    "\t----------------------\n",
    "\t----------------------\n",
    "\n",
    "Objectname=classname()"
   ]
  },
  {
   "cell_type": "code",
   "execution_count": null,
   "id": "b87f1b85",
   "metadata": {},
   "outputs": [],
   "source": []
  },
  {
   "cell_type": "code",
   "execution_count": 22,
   "id": "af1b6e21",
   "metadata": {},
   "outputs": [
    {
     "name": "stdout",
     "output_type": "stream",
     "text": [
      "None\n",
      "my dog can walk\n"
     ]
    }
   ],
   "source": [
    "##exampls\n",
    "\n",
    "class Dog:\n",
    "    att1=\"mammal\"\n",
    "    def __init__(self,name):\n",
    "        self.name=name\n",
    "    def walk(self):\n",
    "        print(\"my dog can walk\")\n",
    "Tommy= Dog (\"tommy\")\n",
    "Rodder= Dog (\"rodder\")\n",
    "\n",
    "Tommy.__class__.att1\n",
    "Rodder.__class__.att1\n",
    "print(Tommy.__init__(Tommy))\n",
    "Tommy.walk()"
   ]
  },
  {
   "cell_type": "code",
   "execution_count": null,
   "id": "b3cffa9d",
   "metadata": {},
   "outputs": [],
   "source": []
  }
 ],
 "metadata": {
  "kernelspec": {
   "display_name": "Python 3 (ipykernel)",
   "language": "python",
   "name": "python3"
  },
  "language_info": {
   "codemirror_mode": {
    "name": "ipython",
    "version": 3
   },
   "file_extension": ".py",
   "mimetype": "text/x-python",
   "name": "python",
   "nbconvert_exporter": "python",
   "pygments_lexer": "ipython3",
   "version": "3.9.12"
  }
 },
 "nbformat": 4,
 "nbformat_minor": 5
}
