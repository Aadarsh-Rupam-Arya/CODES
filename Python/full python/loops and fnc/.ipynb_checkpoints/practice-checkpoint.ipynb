{
 "cells": [
  {
   "cell_type": "code",
   "execution_count": null,
   "id": "29b858e2",
   "metadata": {},
   "outputs": [],
   "source": [
    "# q1 table"
   ]
  },
  {
   "cell_type": "code",
   "execution_count": 16,
   "id": "dda62eef",
   "metadata": {},
   "outputs": [
    {
     "name": "stdout",
     "output_type": "stream",
     "text": [
      "enter the num which you want table of: 4\n",
      "4X1=4\n",
      "4X2=8\n",
      "4X3=12\n",
      "4X4=16\n",
      "4X5=20\n",
      "4X6=24\n",
      "4X7=28\n",
      "4X8=32\n",
      "4X9=36\n",
      "4X10=40\n"
     ]
    }
   ],
   "source": [
    "n=int(input(\"enter the num which you want table of: \"))\n",
    "for i in range (1,11):\n",
    "#     print(n,\"X\",i,\"=\",n*i)\n",
    "    print(f\"{n}X{i}={n*i}\")\n",
    "    i+=1\n"
   ]
  },
  {
   "cell_type": "code",
   "execution_count": null,
   "id": "81b83d72",
   "metadata": {},
   "outputs": [],
   "source": [
    "#q to greet all name in list"
   ]
  },
  {
   "cell_type": "code",
   "execution_count": 17,
   "id": "bd77f8a6",
   "metadata": {},
   "outputs": [
    {
     "name": "stdout",
     "output_type": "stream",
     "text": [
      "Hello rohit\n",
      "Hello sham\n",
      "Hello raju\n",
      "Hello rahul\n"
     ]
    }
   ],
   "source": [
    "l=[\"rohit\",\"sham\",\"raju\",\"rahul\"]\n",
    "for i in l:\n",
    "    print(\"Hello\",i)"
   ]
  },
  {
   "cell_type": "code",
   "execution_count": 18,
   "id": "eb12d3cd",
   "metadata": {},
   "outputs": [],
   "source": [
    "#q to greet all name in list whose name starts with s"
   ]
  },
  {
   "cell_type": "code",
   "execution_count": 22,
   "id": "ef5346f0",
   "metadata": {},
   "outputs": [
    {
     "name": "stdout",
     "output_type": "stream",
     "text": [
      "hello rohit\n",
      "hello raju\n",
      "hello rahul\n"
     ]
    }
   ],
   "source": [
    "l=[\"rohit\",\"sham\",\"raju\",\"rahul\"]\n",
    "for i in l:\n",
    "    if i.startswith(\"r\"):\n",
    "        print(\"hello\",i)"
   ]
  },
  {
   "cell_type": "code",
   "execution_count": null,
   "id": "63395f91",
   "metadata": {},
   "outputs": [],
   "source": []
  },
  {
   "cell_type": "code",
   "execution_count": null,
   "id": "40ef07b7",
   "metadata": {},
   "outputs": [],
   "source": [
    "#q1 attempt through while loop\n",
    "\n",
    "i=1\n",
    "while i<=10:\n",
    "    print(f\"{n}X{i}={n*i}\")\n",
    "print(\"Done\")"
   ]
  },
  {
   "cell_type": "code",
   "execution_count": null,
   "id": "51950230",
   "metadata": {},
   "outputs": [],
   "source": []
  }
 ],
 "metadata": {
  "kernelspec": {
   "display_name": "Python 3 (ipykernel)",
   "language": "python",
   "name": "python3"
  },
  "language_info": {
   "codemirror_mode": {
    "name": "ipython",
    "version": 3
   },
   "file_extension": ".py",
   "mimetype": "text/x-python",
   "name": "python",
   "nbconvert_exporter": "python",
   "pygments_lexer": "ipython3",
   "version": "3.9.12"
  }
 },
 "nbformat": 4,
 "nbformat_minor": 5
}
