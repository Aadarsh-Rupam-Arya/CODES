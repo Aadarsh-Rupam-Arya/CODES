{
 "cells": [
  {
   "cell_type": "code",
   "execution_count": null,
   "id": "b911147b",
   "metadata": {},
   "outputs": [],
   "source": [
    "#else  (not generally used)"
   ]
  },
  {
   "cell_type": "code",
   "execution_count": 2,
   "id": "8c2a50dc",
   "metadata": {},
   "outputs": [
    {
     "name": "stdout",
     "output_type": "stream",
     "text": [
      "0\n",
      "1\n",
      "2\n",
      "3\n",
      "4\n",
      "Done\n"
     ]
    }
   ],
   "source": [
    "for i in range(5):\n",
    "    print(i)\n",
    "else:\n",
    "    print(\"Done\")"
   ]
  },
  {
   "cell_type": "code",
   "execution_count": 3,
   "id": "7a422e8a",
   "metadata": {},
   "outputs": [],
   "source": [
    "#break statement - (to get exit from a loop)"
   ]
  },
  {
   "cell_type": "code",
   "execution_count": 10,
   "id": "47077212",
   "metadata": {},
   "outputs": [
    {
     "name": "stdout",
     "output_type": "stream",
     "text": [
      "0\n",
      "1\n",
      "2\n",
      "3\n",
      "4\n",
      "5\n"
     ]
    }
   ],
   "source": [
    "for i in range (10):\n",
    "    print(i)\n",
    "    if i==5:\n",
    "        break\n",
    "else:\n",
    "    print(\"done\")   #here else wont work"
   ]
  },
  {
   "cell_type": "code",
   "execution_count": 11,
   "id": "5356ee28",
   "metadata": {},
   "outputs": [],
   "source": [
    "# generally we dont use else in this"
   ]
  },
  {
   "cell_type": "code",
   "execution_count": null,
   "id": "630017df",
   "metadata": {},
   "outputs": [],
   "source": [
    "#continue statement (to continue the statement without disturbing other other than selected thing)"
   ]
  },
  {
   "cell_type": "code",
   "execution_count": 12,
   "id": "8b4e9fad",
   "metadata": {},
   "outputs": [
    {
     "name": "stdout",
     "output_type": "stream",
     "text": [
      "0\n",
      "1\n",
      "2\n",
      "3\n",
      "4\n",
      "5\n",
      "6\n",
      "7\n",
      "8\n",
      "9\n"
     ]
    }
   ],
   "source": [
    "for i in range (10):\n",
    "    print(i)\n",
    "    if i==5:\n",
    "        continue\n",
    "#here it will skip the condition"
   ]
  },
  {
   "cell_type": "code",
   "execution_count": 13,
   "id": "482fe718",
   "metadata": {},
   "outputs": [],
   "source": [
    "#pass statement  (it is null statement to not do anything)"
   ]
  },
  {
   "cell_type": "code",
   "execution_count": 15,
   "id": "73a76728",
   "metadata": {},
   "outputs": [],
   "source": [
    "i=0\n",
    "if i>0:\n",
    "    pass"
   ]
  },
  {
   "cell_type": "code",
   "execution_count": null,
   "id": "3ceb9439",
   "metadata": {},
   "outputs": [],
   "source": []
  }
 ],
 "metadata": {
  "kernelspec": {
   "display_name": "Python 3 (ipykernel)",
   "language": "python",
   "name": "python3"
  },
  "language_info": {
   "codemirror_mode": {
    "name": "ipython",
    "version": 3
   },
   "file_extension": ".py",
   "mimetype": "text/x-python",
   "name": "python",
   "nbconvert_exporter": "python",
   "pygments_lexer": "ipython3",
   "version": "3.9.12"
  }
 },
 "nbformat": 4,
 "nbformat_minor": 5
}
