{
 "cells": [
  {
   "cell_type": "code",
   "execution_count": 28,
   "id": "43b201ae",
   "metadata": {},
   "outputs": [
    {
     "name": "stdout",
     "output_type": "stream",
     "text": [
      "6\n",
      "no\n"
     ]
    }
   ],
   "source": [
    "num=int(input())\n",
    "prime=True\n",
    "for i in range(2,num):\n",
    "    if num%i==0:\n",
    "        prime= False\n",
    "        break\n",
    "\n",
    "    \n",
    "if prime:\n",
    "    print(\"yes\")\n",
    "else:\n",
    "    print(\"no\")"
   ]
  },
  {
   "cell_type": "code",
   "execution_count": 39,
   "id": "bd988e64",
   "metadata": {},
   "outputs": [
    {
     "name": "stdout",
     "output_type": "stream",
     "text": [
      "*\n",
      "**\n",
      "***\n",
      "****\n",
      "*****\n",
      "******\n",
      "*******\n",
      "********\n",
      "*********\n",
      "**********\n"
     ]
    }
   ],
   "source": [
    "for i in range(10):\n",
    "    print(\"*\"*(i+1))"
   ]
  },
  {
   "cell_type": "code",
   "execution_count": 49,
   "id": "e463f4e0",
   "metadata": {},
   "outputs": [
    {
     "name": "stdout",
     "output_type": "stream",
     "text": [
      "**     **\n",
      "**     **\n",
      "*********\n",
      "*********\n",
      "**     **\n",
      "**     **\n"
     ]
    }
   ],
   "source": [
    "for i in range(6):\n",
    "    if i==2 or i==3:\n",
    "        print(\"*********\")\n",
    "    else:\n",
    "        print(\"**     **\")"
   ]
  },
  {
   "cell_type": "code",
   "execution_count": 54,
   "id": "40559fec",
   "metadata": {},
   "outputs": [
    {
     "name": "stdout",
     "output_type": "stream",
     "text": [
      "*****    *****\n",
      "*****    *****\n",
      "***        ***\n",
      "*****    *****\n",
      "*****    *****\n"
     ]
    }
   ],
   "source": [
    "for i in range (1,6):\n",
    "    if i==1 or i==2 or i==5 or i==4:\n",
    "        print(\"*****    *****\")\n",
    "    else:\n",
    "        print(\"***        ***\")"
   ]
  },
  {
   "cell_type": "code",
   "execution_count": null,
   "id": "25db9aa0",
   "metadata": {},
   "outputs": [],
   "source": [
    "for i in range "
   ]
  }
 ],
 "metadata": {
  "kernelspec": {
   "display_name": "Python 3 (ipykernel)",
   "language": "python",
   "name": "python3"
  },
  "language_info": {
   "codemirror_mode": {
    "name": "ipython",
    "version": 3
   },
   "file_extension": ".py",
   "mimetype": "text/x-python",
   "name": "python",
   "nbconvert_exporter": "python",
   "pygments_lexer": "ipython3",
   "version": "3.9.12"
  }
 },
 "nbformat": 4,
 "nbformat_minor": 5
}
