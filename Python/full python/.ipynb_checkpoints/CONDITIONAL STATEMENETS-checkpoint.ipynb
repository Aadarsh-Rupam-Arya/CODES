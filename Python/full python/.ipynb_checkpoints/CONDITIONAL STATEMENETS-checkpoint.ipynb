{
 "cells": [
  {
   "cell_type": "code",
   "execution_count": 3,
   "id": "eb3f3c78",
   "metadata": {},
   "outputs": [
    {
     "name": "stdout",
     "output_type": "stream",
     "text": [
      "kya time hai: 60\n",
      "kitne que hai: 5\n",
      "mara li bsdk\n"
     ]
    }
   ],
   "source": [
    "a=int(input(\"kya time hai: \"))\n",
    "b=int(input(\"kitne que hai: \"))\n",
    "if  a>=30 and b<=4:\n",
    "    print(\"hojaiga\")\n",
    "else:\n",
    "    print(\"mara li bsdk\")"
   ]
  },
  {
   "cell_type": "code",
   "execution_count": null,
   "id": "2259d945",
   "metadata": {},
   "outputs": [],
   "source": []
  },
  {
   "cell_type": "markdown",
   "id": "265e6a08",
   "metadata": {},
   "source": [
    "# and , or ,not ,is, in"
   ]
  },
  {
   "cell_type": "code",
   "execution_count": 11,
   "id": "3a8afa32",
   "metadata": {},
   "outputs": [
    {
     "name": "stdout",
     "output_type": "stream",
     "text": [
      "True\n",
      "False\n",
      "enter a value to check if it is in the statement:= is\n",
      "True\n"
     ]
    }
   ],
   "source": [
    "a=\"aadarsh is a good boy and he loves to fuck\"\n",
    "print(\"aadarsh\" in a)\n",
    "print(\"sahil\" in a)\n",
    " \n",
    "b= (input(\"enter a value to check if it is in the statement:= \"))\n",
    "print(b in a)\n",
    "\n"
   ]
  },
  {
   "cell_type": "code",
   "execution_count": 16,
   "id": "bf88cb3e",
   "metadata": {},
   "outputs": [
    {
     "name": "stdout",
     "output_type": "stream",
     "text": [
      "True\n"
     ]
    }
   ],
   "source": [
    "a=[213,45,354,24]\n",
    "b=a[1]\n",
    "print(b in a)\n"
   ]
  },
  {
   "cell_type": "code",
   "execution_count": null,
   "id": "d59d1b6e",
   "metadata": {},
   "outputs": [],
   "source": [
    "a=int(input(\"sd\"))\n",
    "b=int(input)"
   ]
  }
 ],
 "metadata": {
  "kernelspec": {
   "display_name": "Python 3 (ipykernel)",
   "language": "python",
   "name": "python3"
  },
  "language_info": {
   "codemirror_mode": {
    "name": "ipython",
    "version": 3
   },
   "file_extension": ".py",
   "mimetype": "text/x-python",
   "name": "python",
   "nbconvert_exporter": "python",
   "pygments_lexer": "ipython3",
   "version": "3.9.12"
  }
 },
 "nbformat": 4,
 "nbformat_minor": 5
}
