{
 "cells": [
  {
   "cell_type": "code",
   "execution_count": 3,
   "id": "5fe6167f",
   "metadata": {},
   "outputs": [
    {
     "name": "stdout",
     "output_type": "stream",
     "text": [
      "[1, 2, 5, 'harry', 'false', False]\n"
     ]
    }
   ],
   "source": [
    "l1=[1,2,5,\"harry\",\"false\",False]\n",
    "print(l1)"
   ]
  },
  {
   "cell_type": "code",
   "execution_count": 42,
   "id": "3e64d7c7",
   "metadata": {},
   "outputs": [
    {
     "name": "stdout",
     "output_type": "stream",
     "text": [
      "90\n",
      "4\n",
      "1\n",
      "87\n",
      "[4, 3, 7]\n",
      "[4, 3, 7, 33, 87, 2, 6, 99]\n",
      "[1, 4, 3, 7]\n",
      "[7, 33, 87, 2, 6, 99, 90]\n"
     ]
    }
   ],
   "source": [
    "l1=[1,4,3,7,33,87,2,6,99,90]\n",
    "print(l1[-1])\n",
    "print(l1[1])\n",
    "print(l1[0])\n",
    "print(l1[5])\n",
    "print(l1[1:4])\n",
    "print(l1[1:-1])\n",
    "print(l1[:4])\n",
    "print(l1[3:])\n"
   ]
  },
  {
   "cell_type": "code",
   "execution_count": 47,
   "id": "6d274cb1",
   "metadata": {},
   "outputs": [
    {
     "name": "stdout",
     "output_type": "stream",
     "text": [
      "[1, 4, 3, 7, 33, 87, 2, 6, 99, 90]\n",
      "[1, 2, 3, 4, 6, 7, 33, 87, 90, 99]\n",
      "[99, 90, 87, 33, 7, 6, 4, 3, 2, 1]\n",
      "[99, 90, 87, 33, 7, 6, 4, 3, 2, 1, 50]\n",
      "[99, 90, 87, 33, 7, 6, 4, 3, 2, 1, 50, 45]\n",
      "[99, 90, 87, 33, 7, 6, 4, 3, 2, 1, 50, 45, 39, 95]\n",
      "[99, 90, 67, 87, 33, 7, 6, 4, 3, 2, 1, 50, 45, 39, 95]\n",
      "[10, 99, 90, 67, 87, 33, 7, 6, 4, 3, 2, 1, 50, 45, 39, 95]\n",
      "[10, 99, 67, 87, 33, 7, 6, 4, 3, 2, 1, 50, 45, 39, 95]\n",
      "[10, 99, 67, 87, 33, 7, 4, 3, 2, 1, 50, 45, 39, 95]\n",
      "[10, 99, 67, 87, 7, 4, 3, 2, 1, 50, 45, 39, 95]\n",
      "[10, 99, 3, 67, 87, 3, 7, 4, 3, 2, 1, 3, 50, 45, 39, 95]\n",
      "39 is at: 14\n"
     ]
    }
   ],
   "source": [
    "#methods of listing \n",
    "l1=[1,4,3,7,33,87,2,6,99,90]\n",
    "print(l1)\n",
    "l1.sort() #l1.sort() (arrange in ascending order)\n",
    "print(l1)\n",
    "\n",
    "l1.reverse() #l1.reverse() (reverse the list or in descending order)\n",
    "print(l1)\n",
    "\n",
    "l1.append(50) ##l1.append()  (add something at the end of the list)\n",
    "print(l1)\n",
    "l1.append(45)\n",
    "print(l1)\n",
    "l1.append(39)\n",
    "l1.append(95)\n",
    "print(l1)\n",
    " \n",
    "l1.insert(2,67) ##l1.insert() (insert an elemet on an index example l1.insert(2,67) here 67 will be inserted on 2nd index)\n",
    "print(l1)\n",
    "l1.insert(0,10)\n",
    "print(l1)\n",
    "\n",
    "l1.pop(2)   ##  l1.pop() remove an element of a index\n",
    "print(l1)\n",
    "l1.pop(6)\n",
    "print(l1)\n",
    "\n",
    "l1.remove(33)    ## l1.remove()  it will remove the element typed \n",
    "print(l1)\n",
    "\n",
    "l1.insert(2,3)\n",
    "l1.insert(5,3)\n",
    "l1.insert(11,3)\n",
    "print(l1)\n",
    "\n",
    "\n",
    "l1.count(3)\n",
    "\n",
    "\n",
    "\n",
    "b=l1.index(39)  ##search at which index the element is at\n",
    "print(\"39 is at:\",b)"
   ]
  },
  {
   "cell_type": "code",
   "execution_count": null,
   "id": "5b2eebe4",
   "metadata": {},
   "outputs": [],
   "source": []
  },
  {
   "cell_type": "code",
   "execution_count": null,
   "id": "bedeab7a",
   "metadata": {},
   "outputs": [],
   "source": []
  },
  {
   "cell_type": "code",
   "execution_count": null,
   "id": "106f028d",
   "metadata": {},
   "outputs": [],
   "source": []
  },
  {
   "cell_type": "code",
   "execution_count": null,
   "id": "1b287d88",
   "metadata": {},
   "outputs": [],
   "source": []
  },
  {
   "cell_type": "code",
   "execution_count": null,
   "id": "37d4e51e",
   "metadata": {},
   "outputs": [],
   "source": []
  }
 ],
 "metadata": {
  "kernelspec": {
   "display_name": "Python 3 (ipykernel)",
   "language": "python",
   "name": "python3"
  },
  "language_info": {
   "codemirror_mode": {
    "name": "ipython",
    "version": 3
   },
   "file_extension": ".py",
   "mimetype": "text/x-python",
   "name": "python",
   "nbconvert_exporter": "python",
   "pygments_lexer": "ipython3",
   "version": "3.9.12"
  }
 },
 "nbformat": 4,
 "nbformat_minor": 5
}
