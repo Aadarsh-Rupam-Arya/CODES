{
 "cells": [
  {
   "cell_type": "code",
   "execution_count": 12,
   "id": "4bb8bc65",
   "metadata": {},
   "outputs": [
    {
     "name": "stdout",
     "output_type": "stream",
     "text": [
      "subscribe my channel\n"
     ]
    }
   ],
   "source": [
    "#6\n",
    "\"\"\"this is a code\"\"\"\n",
    "#for continuing in same line use (..., end=\"\") or add witha anything so write inside the quote\n",
    "print(\"subscribe\", end=\" \")\n",
    "print(\"my channel\")\n"
   ]
  },
  {
   "cell_type": "code",
   "execution_count": 15,
   "id": "66c26c7c",
   "metadata": {},
   "outputs": [
    {
     "name": "stdout",
     "output_type": "stream",
     "text": [
      "my name is \n",
      "Aadarsh \tArya\n"
     ]
    }
   ],
   "source": [
    "#6\n",
    "#\\n or \\t or etc are the codes for gettingdiff output\n",
    "print(\"my name is \\nAadarsh \\tArya\")"
   ]
  },
  {
   "cell_type": "code",
   "execution_count": 16,
   "id": "bbbb877e",
   "metadata": {},
   "outputs": [
    {
     "name": "stdout",
     "output_type": "stream",
     "text": [
      "13\n"
     ]
    }
   ],
   "source": [
    "#7\n",
    "#variables\n",
    "var1=13\n",
    "print(var1)"
   ]
  },
  {
   "cell_type": "code",
   "execution_count": 17,
   "id": "aedd9527",
   "metadata": {},
   "outputs": [
    {
     "name": "stdout",
     "output_type": "stream",
     "text": [
      "<class 'int'>\n"
     ]
    }
   ],
   "source": [
    "#type fnc\n",
    "#ex\n",
    "var1=12\n",
    "print(type(var1))"
   ]
  },
  {
   "cell_type": "code",
   "execution_count": 21,
   "id": "4e1d01f8",
   "metadata": {},
   "outputs": [
    {
     "name": "stdout",
     "output_type": "stream",
     "text": [
      "<class 'float'>\n"
     ]
    }
   ],
   "source": [
    "var2=12.5\n",
    "print(type(var2))\n"
   ]
  },
  {
   "cell_type": "code",
   "execution_count": 22,
   "id": "ac5f835c",
   "metadata": {},
   "outputs": [
    {
     "name": "stdout",
     "output_type": "stream",
     "text": [
      "<class 'str'>\n"
     ]
    }
   ],
   "source": [
    "var3=\"aadarsh\"\n",
    "print(type(var3))\n"
   ]
  },
  {
   "cell_type": "code",
   "execution_count": 28,
   "id": "6f2965d1",
   "metadata": {},
   "outputs": [
    {
     "name": "stdout",
     "output_type": "stream",
     "text": [
      "aadarsh is boss\n",
      "50\n",
      "aadarsh25\n"
     ]
    }
   ],
   "source": [
    "#simple add bw variables\n",
    "var1=\"aadarsh\"\n",
    "var2=\" is boss\"\n",
    "print(var1+var2)\n",
    "var4=35\n",
    "var5=15\n",
    "print(var4+var5)\n",
    "#but if\n",
    "var6=\"25\"\n",
    "print(var1+var6)"
   ]
  },
  {
   "cell_type": "code",
   "execution_count": 34,
   "id": "8ddff660",
   "metadata": {},
   "outputs": [
    {
     "name": "stdout",
     "output_type": "stream",
     "text": [
      "80\n"
     ]
    }
   ],
   "source": [
    "#string to a integer or to any of the change in fnc just use \n",
    "#{for str(), for int(), for float()}\n",
    "var1=\"35\" #(str)\n",
    "var2=\"45\" #(str)\n",
    "print(int(var1) + int(var2))"
   ]
  },
  {
   "cell_type": "code",
   "execution_count": 36,
   "id": "a9938117",
   "metadata": {},
   "outputs": [
    {
     "name": "stdout",
     "output_type": "stream",
     "text": [
      "<class 'str'>\n"
     ]
    }
   ],
   "source": [
    "a=\"24.34\"\n",
    "print(type(a))\n"
   ]
  },
  {
   "cell_type": "code",
   "execution_count": 47,
   "id": "0450d861",
   "metadata": {},
   "outputs": [
    {
     "name": "stdout",
     "output_type": "stream",
     "text": [
      "hello worldhello worldhello worldhello worldhello world\n",
      "fine fine fine fine fine fine fine fine \n"
     ]
    }
   ],
   "source": [
    "#print a string n num of times\n",
    "#use (* <-)\n",
    "#example\n",
    "\n",
    "print(5*'hello world')\n",
    "\n",
    "print(8*\"fine \", )\n",
    "\n",
    "#but this can be done with only string otherwise it will multiply"
   ]
  },
  {
   "cell_type": "code",
   "execution_count": 53,
   "id": "58eb5e1c",
   "metadata": {},
   "outputs": [
    {
     "name": "stdout",
     "output_type": "stream",
     "text": [
      "Enter your number\n",
      "25\n",
      "your reasult 50\n"
     ]
    }
   ],
   "source": [
    "print(\"Enter your number\")\n",
    "inpnum = input()\n",
    "print(\"your reasult\", int(inpnum)+25)\n"
   ]
  }
 ],
 "metadata": {
  "kernelspec": {
   "display_name": "Python 3.10.7 64-bit (microsoft store)",
   "language": "python",
   "name": "python3"
  },
  "language_info": {
   "codemirror_mode": {
    "name": "ipython",
    "version": 3
   },
   "file_extension": ".py",
   "mimetype": "text/x-python",
   "name": "python",
   "nbconvert_exporter": "python",
   "pygments_lexer": "ipython3",
   "version": "3.10.7"
  },
  "vscode": {
   "interpreter": {
    "hash": "26a0f89b80a1a74a258994b0d4ba88b7c6fd130d188254a358ca35a846bd4664"
   }
  }
 },
 "nbformat": 4,
 "nbformat_minor": 5
}
