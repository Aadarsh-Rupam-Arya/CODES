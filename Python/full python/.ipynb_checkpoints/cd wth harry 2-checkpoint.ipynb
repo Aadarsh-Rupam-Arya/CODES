{
 "cells": [
  {
   "cell_type": "code",
   "execution_count": 1,
   "id": "0b20a14d",
   "metadata": {},
   "outputs": [
    {
     "name": "stdout",
     "output_type": "stream",
     "text": [
      "hello world\n"
     ]
    }
   ],
   "source": [
    "print(\"hello world\")"
   ]
  },
  {
   "cell_type": "code",
   "execution_count": 4,
   "id": "2e47633e",
   "metadata": {},
   "outputs": [
    {
     "name": "stdout",
     "output_type": "stream",
     "text": [
      "enter your first num\n",
      "49\n",
      "enter your second num\n",
      "1\n",
      "the sum of these num is 50\n"
     ]
    }
   ],
   "source": [
    "#calculator\n",
    "print(\"enter your first num\")\n",
    "num1= input()\n",
    "print(\"enter your second num\")\n",
    "num2= input()\n",
    "print(\"the sum of these num is\", int(num1) + int(num2))\n",
    "\n"
   ]
  },
  {
   "cell_type": "code",
   "execution_count": 10,
   "id": "24be2a13",
   "metadata": {},
   "outputs": [
    {
     "name": "stdout",
     "output_type": "stream",
     "text": [
      "r\n",
      "s\n",
      " \n",
      "g\n"
     ]
    }
   ],
   "source": [
    "#print a part of a string \n",
    "#example\n",
    "mystr = \"Aadarsh is a good boy\"\n",
    "#python will start counting with 0 for ex above we can see that aadarsh is written there a is 0 d is 3 hence furthr and \n",
    "#note- space will also be counted\n",
    "#now output\n",
    "print(mystr[4])\n",
    "print(mystr[5])\n",
    "print(mystr[7])\n",
    "print(mystr[13])\n",
    "\n"
   ]
  },
  {
   "cell_type": "code",
   "execution_count": 12,
   "id": "d7502167",
   "metadata": {},
   "outputs": [
    {
     "name": "stdout",
     "output_type": "stream",
     "text": [
      "Aada\n",
      "Aadarsh is a g\n"
     ]
    }
   ],
   "source": [
    "mystr = \"Aadarsh is a good boy\"\n",
    "print(mystr[0:4])\n",
    "print(mystr[0:14])"
   ]
  },
  {
   "cell_type": "code",
   "execution_count": 16,
   "id": "fb62d5e1",
   "metadata": {},
   "outputs": [
    {
     "name": "stdout",
     "output_type": "stream",
     "text": [
      "21\n"
     ]
    }
   ],
   "source": [
    "#for knowing its legnth\n",
    "mystr = \"Aadarsh is a good boy\"\n",
    "print(len(mystr))\n",
    "\n",
    "\n"
   ]
  },
  {
   "cell_type": "code",
   "execution_count": 18,
   "id": "a3c5bc4d",
   "metadata": {},
   "outputs": [
    {
     "name": "stdout",
     "output_type": "stream",
     "text": [
      "3\n"
     ]
    }
   ],
   "source": [
    "#to count how many specific alphabet is there in sent/srt\n",
    "#ex\n",
    "mystr = \"Aadarsh is a good boy\"\n",
    "print(mystr.count('o'))"
   ]
  },
  {
   "cell_type": "code",
   "execution_count": 22,
   "id": "19770e1f",
   "metadata": {},
   "outputs": [
    {
     "name": "stdout",
     "output_type": "stream",
     "text": [
      "Aadarsh is a good boy\n"
     ]
    }
   ],
   "source": [
    "#to capatilise\n",
    "mystr = \"aadarsh is a good boy\"\n",
    "print(mystr.capitalize())\n"
   ]
  },
  {
   "cell_type": "code",
   "execution_count": 23,
   "id": "c1cd8d0f",
   "metadata": {},
   "outputs": [
    {
     "name": "stdout",
     "output_type": "stream",
     "text": [
      "13\n"
     ]
    }
   ],
   "source": [
    "#to find\n",
    "mystr = \"aadarsh is a good boy\"\n",
    "\n",
    "print(mystr.find(\"good\"))"
   ]
  },
  {
   "cell_type": "code",
   "execution_count": 30,
   "id": "46cfde68",
   "metadata": {},
   "outputs": [
    {
     "name": "stdout",
     "output_type": "stream",
     "text": [
      "AADARSH IS A GOOD BOY\n",
      "aadarsh is a good boy\n"
     ]
    }
   ],
   "source": [
    "#lower and upper fnc\n",
    "mystr = \"aadarsh is a good boy\"\n",
    "print(mystr.upper())\n",
    "nstr=\"AADARSH IS A GOOD BOY\"\n",
    "print(nstr.lower())"
   ]
  },
  {
   "cell_type": "code",
   "execution_count": 33,
   "id": "5d71620e",
   "metadata": {},
   "outputs": [
    {
     "name": "stdout",
     "output_type": "stream",
     "text": [
      "aadarsh are a good boy\n"
     ]
    }
   ],
   "source": [
    "#replacew one o=word with other\n",
    "mystr = \"aadarsh is a good boy\"\n",
    "print(mystr.replace('is', \"are\"))"
   ]
  },
  {
   "cell_type": "code",
   "execution_count": 35,
   "id": "94753df2",
   "metadata": {},
   "outputs": [
    {
     "name": "stdout",
     "output_type": "stream",
     "text": [
      "('pen', 'eraser', 'pencil', 'sharpner')\n",
      "sharpner\n"
     ]
    }
   ],
   "source": [
    "#lec9\n",
    "penbox = ('pen', 'eraser', 'pencil', 'sharpner',)\n",
    "print(penbox)\n",
    "print(penbox[3])"
   ]
  },
  {
   "cell_type": "code",
   "execution_count": 41,
   "id": "12a6ed9b",
   "metadata": {},
   "outputs": [
    {
     "name": "stdout",
     "output_type": "stream",
     "text": [
      "1\n"
     ]
    }
   ],
   "source": [
    "numbers= (2, 5, 1, 45, 8)\n",
    "print(numbers[2])"
   ]
  },
  {
   "cell_type": "code",
   "execution_count": 42,
   "id": "b2745aa2",
   "metadata": {},
   "outputs": [
    {
     "ename": "AttributeError",
     "evalue": "'tuple' object has no attribute 'appened'",
     "output_type": "error",
     "traceback": [
      "\u001b[1;31m---------------------------------------------------------------------------\u001b[0m",
      "\u001b[1;31mAttributeError\u001b[0m                            Traceback (most recent call last)",
      "Input \u001b[1;32mIn [42]\u001b[0m, in \u001b[0;36m<cell line: 3>\u001b[1;34m()\u001b[0m\n\u001b[0;32m      1\u001b[0m \u001b[38;5;66;03m#add a num to a set\u001b[39;00m\n\u001b[0;32m      2\u001b[0m numbers\u001b[38;5;241m=\u001b[39m (\u001b[38;5;241m2\u001b[39m, \u001b[38;5;241m5\u001b[39m, \u001b[38;5;241m1\u001b[39m, \u001b[38;5;241m45\u001b[39m, \u001b[38;5;241m8\u001b[39m)\n\u001b[1;32m----> 3\u001b[0m \u001b[43mnumbers\u001b[49m\u001b[38;5;241;43m.\u001b[39;49m\u001b[43mappened\u001b[49m(\u001b[38;5;241m20\u001b[39m)\n\u001b[0;32m      4\u001b[0m \u001b[38;5;28mprint\u001b[39m(numbers)\n",
      "\u001b[1;31mAttributeError\u001b[0m: 'tuple' object has no attribute 'appened'"
     ]
    }
   ],
   "source": [
    "#add a num to a set\n",
    "numbers= (2, 5, 1, 45, 8)\n",
    "numbers.appened(20)\n",
    "print(numbers)"
   ]
  },
  {
   "cell_type": "code",
   "execution_count": null,
   "id": "9798b25c",
   "metadata": {},
   "outputs": [],
   "source": []
  }
 ],
 "metadata": {
  "kernelspec": {
   "display_name": "Python 3 (ipykernel)",
   "language": "python",
   "name": "python3"
  },
  "language_info": {
   "codemirror_mode": {
    "name": "ipython",
    "version": 3
   },
   "file_extension": ".py",
   "mimetype": "text/x-python",
   "name": "python",
   "nbconvert_exporter": "python",
   "pygments_lexer": "ipython3",
   "version": "3.9.12"
  }
 },
 "nbformat": 4,
 "nbformat_minor": 5
}
