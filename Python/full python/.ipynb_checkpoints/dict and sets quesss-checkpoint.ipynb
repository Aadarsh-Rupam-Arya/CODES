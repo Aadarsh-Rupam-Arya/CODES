{
 "cells": [
  {
   "cell_type": "code",
   "execution_count": 14,
   "id": "fbff0c57",
   "metadata": {},
   "outputs": [
    {
     "name": "stdout",
     "output_type": "stream",
     "text": [
      "<class 'str'>\n",
      "dict_keys([])\n",
      "dict_values([])\n",
      "enter your name: adsf\n",
      "enter your name: adsffafds\n",
      "enter your name: afsd\n",
      "enter your name: aasfd\n",
      "enter your fav lang: fdsgrsd\n",
      "enter your fav lang: gsd\n",
      "enter your fav lang: gsd\n",
      "enter your fav lang: gsd\n",
      "None\n"
     ]
    }
   ],
   "source": [
    "mydict={}\n",
    "print(type(a))\n",
    "print(mydict.keys())\n",
    "print(mydict.values())\n",
    "\n",
    "a=input(\"enter your name: \")\n",
    "b=input(\"enter your name: \")\n",
    "c=input(\"enter your name: \")\n",
    "d=input(\"enter your name: \")\n",
    "a1=input(\"enter your fav lang: \")\n",
    "b1=input(\"enter your fav lang: \")\n",
    "c1=input(\"enter your fav lang: \")\n",
    "d1=input(\"enter your fav lang: \")\n",
    "\n",
    "update={\n",
    "    a:a1,\n",
    "    b:b1,\n",
    "    c:c1,\n",
    "    d:d1\n",
    "}\n",
    "\n",
    "print(mydict.update(update))\n",
    "\n",
    "\n"
   ]
  },
  {
   "cell_type": "code",
   "execution_count": null,
   "id": "a7e3a5db",
   "metadata": {},
   "outputs": [],
   "source": []
  }
 ],
 "metadata": {
  "kernelspec": {
   "display_name": "Python 3 (ipykernel)",
   "language": "python",
   "name": "python3"
  },
  "language_info": {
   "codemirror_mode": {
    "name": "ipython",
    "version": 3
   },
   "file_extension": ".py",
   "mimetype": "text/x-python",
   "name": "python",
   "nbconvert_exporter": "python",
   "pygments_lexer": "ipython3",
   "version": "3.9.12"
  }
 },
 "nbformat": 4,
 "nbformat_minor": 5
}
