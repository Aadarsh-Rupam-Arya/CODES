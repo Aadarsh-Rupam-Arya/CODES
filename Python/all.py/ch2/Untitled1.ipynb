{
 "cells": [
  {
   "cell_type": "code",
   "execution_count": null,
   "id": "62aef4b0",
   "metadata": {},
   "outputs": [],
   "source": [
    "print(\"Letter,\")\n",
    "a=input(\"Your name: \")\n",
    "b=int(input(\"Your marks: \"))\n",
    "if b>=35:\n",
    "    print(\"You are selected\")\n",
    "else:\n",
    "    print(\"Firse exam de lode\")\n",
    "k=input(\"Date: \")"
   ]
  },
  {
   "cell_type": "code",
   "execution_count": null,
   "id": "888048c9",
   "metadata": {},
   "outputs": [],
   "source": [
    "print(\"Letter,\")\n",
    "a=input(\"Your name: \")\n",
    "b=int(input(\"Your marks: \"))\n",
    "if b>=35:\n",
    "    print(\"You are selected\")\n",
    "else:\n",
    "    print(\"Firse exam de lode\")\n",
    "k=input(\"Date: \")"
   ]
  },
  {
   "cell_type": "code",
   "execution_count": null,
   "id": "0d53ee08",
   "metadata": {},
   "outputs": [],
   "source": [
    "on=\"leter\"\n",
    "print(on)"
   ]
  },
  {
   "cell_type": "code",
   "execution_count": null,
   "id": "307462c5",
   "metadata": {},
   "outputs": [],
   "source": []
  }
 ],
 "metadata": {
  "kernelspec": {
   "display_name": "Python 3 (ipykernel)",
   "language": "python",
   "name": "python3"
  },
  "language_info": {
   "codemirror_mode": {
    "name": "ipython",
    "version": 3
   },
   "file_extension": ".py",
   "mimetype": "text/x-python",
   "name": "python",
   "nbconvert_exporter": "python",
   "pygments_lexer": "ipython3",
   "version": "3.9.12"
  }
 },
 "nbformat": 4,
 "nbformat_minor": 5
}
